{
  "nbformat": 4,
  "nbformat_minor": 0,
  "metadata": {
    "colab": {
      "name": "Twitter Radikal.ipynb",
      "provenance": [],
      "collapsed_sections": [
        "EVL-Cs4UfC7e"
      ],
      "toc_visible": true,
      "include_colab_link": true
    },
    "kernelspec": {
      "name": "python3",
      "display_name": "Python 3"
    },
    "accelerator": "TPU"
  },
  "cells": [
    {
      "cell_type": "markdown",
      "metadata": {
        "id": "view-in-github",
        "colab_type": "text"
      },
      "source": [
        "<a href=\"https://colab.research.google.com/github/alviskagan/Twitter-Radicalism-Classification/blob/master/Twitter_Radikal.ipynb\" target=\"_parent\"><img src=\"https://colab.research.google.com/assets/colab-badge.svg\" alt=\"Open In Colab\"/></a>"
      ]
    },
    {
      "cell_type": "code",
      "metadata": {
        "id": "ghwc8n6LQB50",
        "colab_type": "code",
        "outputId": "d4f82666-76b5-4644-b5e0-2fc45653b73a",
        "colab": {
          "base_uri": "https://localhost:8080/",
          "height": 343
        }
      },
      "source": [
        "!pip install -q PySastrawi\n",
        "!pip install nltk\n",
        "!pip install scikit-plot\n",
        "!nltk.download()"
      ],
      "execution_count": 0,
      "outputs": [
        {
          "output_type": "stream",
          "text": [
            "Requirement already satisfied: nltk in /usr/local/lib/python3.6/dist-packages (3.2.5)\n",
            "Requirement already satisfied: six in /usr/local/lib/python3.6/dist-packages (from nltk) (1.12.0)\n",
            "Collecting scikit-plot\n",
            "  Downloading https://files.pythonhosted.org/packages/7c/47/32520e259340c140a4ad27c1b97050dd3254fdc517b1d59974d47037510e/scikit_plot-0.3.7-py3-none-any.whl\n",
            "Requirement already satisfied: matplotlib>=1.4.0 in /usr/local/lib/python3.6/dist-packages (from scikit-plot) (3.1.1)\n",
            "Requirement already satisfied: scikit-learn>=0.18 in /usr/local/lib/python3.6/dist-packages (from scikit-plot) (0.21.3)\n",
            "Requirement already satisfied: scipy>=0.9 in /usr/local/lib/python3.6/dist-packages (from scikit-plot) (1.3.1)\n",
            "Requirement already satisfied: joblib>=0.10 in /usr/local/lib/python3.6/dist-packages (from scikit-plot) (0.14.0)\n",
            "Requirement already satisfied: python-dateutil>=2.1 in /usr/local/lib/python3.6/dist-packages (from matplotlib>=1.4.0->scikit-plot) (2.6.1)\n",
            "Requirement already satisfied: numpy>=1.11 in /usr/local/lib/python3.6/dist-packages (from matplotlib>=1.4.0->scikit-plot) (1.17.3)\n",
            "Requirement already satisfied: pyparsing!=2.0.4,!=2.1.2,!=2.1.6,>=2.0.1 in /usr/local/lib/python3.6/dist-packages (from matplotlib>=1.4.0->scikit-plot) (2.4.2)\n",
            "Requirement already satisfied: kiwisolver>=1.0.1 in /usr/local/lib/python3.6/dist-packages (from matplotlib>=1.4.0->scikit-plot) (1.1.0)\n",
            "Requirement already satisfied: cycler>=0.10 in /usr/local/lib/python3.6/dist-packages (from matplotlib>=1.4.0->scikit-plot) (0.10.0)\n",
            "Requirement already satisfied: six>=1.5 in /usr/local/lib/python3.6/dist-packages (from python-dateutil>=2.1->matplotlib>=1.4.0->scikit-plot) (1.12.0)\n",
            "Requirement already satisfied: setuptools in /usr/local/lib/python3.6/dist-packages (from kiwisolver>=1.0.1->matplotlib>=1.4.0->scikit-plot) (41.4.0)\n",
            "Installing collected packages: scikit-plot\n",
            "Successfully installed scikit-plot-0.3.7\n",
            "/bin/bash: -c: line 1: syntax error: unexpected end of file\n"
          ],
          "name": "stdout"
        }
      ]
    },
    {
      "cell_type": "code",
      "metadata": {
        "id": "DWtzw89eaKs7",
        "colab_type": "code",
        "outputId": "01ec7b89-61fe-44f4-a10d-290f514109aa",
        "colab": {
          "base_uri": "https://localhost:8080/",
          "height": 34
        }
      },
      "source": [
        "# This Python 3 environment comes with many helpful analytics libraries installed\n",
        "# It is defined by the kaggle/python docker image: https://github.com/kaggle/docker-python\n",
        "# For example, here's several helpful packages to load in \n",
        "\n",
        "import numpy as np # linear algebra\n",
        "import pandas as pd # data processing, CSV file I/O (e.g. pd.read_csv)\n",
        "import keras\n",
        "import re\n",
        "import seaborn as sns\n",
        "import matplotlib.pyplot as plt\n",
        "\n",
        "from Sastrawi.Stemmer.StemmerFactory import StemmerFactory\n",
        "from sklearn.feature_extraction.text import CountVectorizer\n",
        "from keras.preprocessing.text import Tokenizer\n",
        "from keras.preprocessing.sequence import pad_sequences\n",
        "from keras.models import Sequential\n",
        "from keras.layers import *\n",
        "from keras.callbacks import EarlyStopping\n",
        "from keras import regularizers\n",
        "from keras import backend as K\n",
        "from keras.initializers import Constant\n",
        "from keras.utils.np_utils import to_categorical\n",
        "from sklearn.model_selection import train_test_split\n",
        "from keras.utils.np_utils import to_categorical\n",
        "from sklearn.metrics import classification_report, confusion_matrix\n",
        "\n",
        "# Input data files are available in the \"../input/\" directory.\n",
        "# For example, running this (by clicking run or pressing Shift+Enter) will list the files in the input directory\n"
      ],
      "execution_count": 0,
      "outputs": [
        {
          "output_type": "stream",
          "text": [
            "Using TensorFlow backend.\n"
          ],
          "name": "stderr"
        }
      ]
    },
    {
      "cell_type": "markdown",
      "metadata": {
        "id": "eHG2IgHBaUcM",
        "colab_type": "text"
      },
      "source": [
        "# Pre-Processing"
      ]
    },
    {
      "cell_type": "markdown",
      "metadata": {
        "id": "jCrerkAnaxwX",
        "colab_type": "text"
      },
      "source": [
        "**Memuat data dari direktori Google Drive**"
      ]
    },
    {
      "cell_type": "code",
      "metadata": {
        "id": "F08l5xUViGwJ",
        "colab_type": "code",
        "outputId": "b3a7c3d2-e266-4c01-b17f-7202ab53ddcd",
        "colab": {
          "base_uri": "https://localhost:8080/",
          "height": 51
        }
      },
      "source": [
        "!fusermount -u drive\n",
        "!google-drive-ocamlfuse drive"
      ],
      "execution_count": 0,
      "outputs": [
        {
          "output_type": "stream",
          "text": [
            "fusermount: failed to unmount /content/drive: No such file or directory\n",
            "/bin/bash: google-drive-ocamlfuse: command not found\n"
          ],
          "name": "stdout"
        }
      ]
    },
    {
      "cell_type": "code",
      "metadata": {
        "id": "PKKbvPWcaxb9",
        "colab_type": "code",
        "outputId": "7574762b-3f3b-4be8-99f0-0d9cfd052b5a",
        "colab": {
          "base_uri": "https://localhost:8080/",
          "height": 51
        }
      },
      "source": [
        "from google.colab import drive\n",
        "drive.mount('/gdrive')\n",
        "%cd /gdrive"
      ],
      "execution_count": 0,
      "outputs": [
        {
          "output_type": "stream",
          "text": [
            "Drive already mounted at /gdrive; to attempt to forcibly remount, call drive.mount(\"/gdrive\", force_remount=True).\n",
            "/gdrive\n"
          ],
          "name": "stdout"
        }
      ]
    },
    {
      "cell_type": "code",
      "metadata": {
        "id": "QgYnxuJkbI7p",
        "colab_type": "code",
        "colab": {}
      },
      "source": [
        "data = pd.read_csv(\"/gdrive/My Drive/LSTM Radikal/Development/radikal.csv\", names = ['category','tweets'], sep =\";\")"
      ],
      "execution_count": 0,
      "outputs": []
    },
    {
      "cell_type": "markdown",
      "metadata": {
        "id": "3_y53pEJbWqB",
        "colab_type": "text"
      },
      "source": [
        "**Memuat data dari lokal direktori**"
      ]
    },
    {
      "cell_type": "code",
      "metadata": {
        "id": "GOjehUJkbZ56",
        "colab_type": "code",
        "colab": {}
      },
      "source": [
        "# data = pd.read_csv(\"./radikal.csv\", names = ['category','tweets'], sep =\";\")"
      ],
      "execution_count": 0,
      "outputs": []
    },
    {
      "cell_type": "markdown",
      "metadata": {
        "id": "Gxtw_ruWbi-P",
        "colab_type": "text"
      },
      "source": [
        "**Melihat informasi data**"
      ]
    },
    {
      "cell_type": "code",
      "metadata": {
        "id": "5jucMZiIcOMy",
        "colab_type": "code",
        "outputId": "0550c7c7-7e28-47cf-b177-27ac59d794af",
        "colab": {
          "base_uri": "https://localhost:8080/",
          "height": 204
        }
      },
      "source": [
        "data.head()"
      ],
      "execution_count": 0,
      "outputs": [
        {
          "output_type": "execute_result",
          "data": {
            "text/html": [
              "<div>\n",
              "<style scoped>\n",
              "    .dataframe tbody tr th:only-of-type {\n",
              "        vertical-align: middle;\n",
              "    }\n",
              "\n",
              "    .dataframe tbody tr th {\n",
              "        vertical-align: top;\n",
              "    }\n",
              "\n",
              "    .dataframe thead th {\n",
              "        text-align: right;\n",
              "    }\n",
              "</style>\n",
              "<table border=\"1\" class=\"dataframe\">\n",
              "  <thead>\n",
              "    <tr style=\"text-align: right;\">\n",
              "      <th></th>\n",
              "      <th>category</th>\n",
              "      <th>tweets</th>\n",
              "    </tr>\n",
              "  </thead>\n",
              "  <tbody>\n",
              "    <tr>\n",
              "      <th>0</th>\n",
              "      <td>Radikal</td>\n",
              "      <td>Lah siapa ente kok mau melarang dakwah Agama A...</td>\n",
              "    </tr>\n",
              "    <tr>\n",
              "      <th>1</th>\n",
              "      <td>Radikal</td>\n",
              "      <td>Tujuan akhir adalah mati JIHAD!</td>\n",
              "    </tr>\n",
              "    <tr>\n",
              "      <th>2</th>\n",
              "      <td>Radikal</td>\n",
              "      <td>Makin beringas serangan musuh-musuh Allah. Mak...</td>\n",
              "    </tr>\n",
              "    <tr>\n",
              "      <th>3</th>\n",
              "      <td>Radikal</td>\n",
              "      <td>Allah Akbar..Teruslah maju melangkah, sekalipu...</td>\n",
              "    </tr>\n",
              "    <tr>\n",
              "      <th>4</th>\n",
              "      <td>Radikal</td>\n",
              "      <td>Islam Sejati Berani Mati</td>\n",
              "    </tr>\n",
              "  </tbody>\n",
              "</table>\n",
              "</div>"
            ],
            "text/plain": [
              "  category                                             tweets\n",
              "0  Radikal  Lah siapa ente kok mau melarang dakwah Agama A...\n",
              "1  Radikal                    Tujuan akhir adalah mati JIHAD!\n",
              "2  Radikal  Makin beringas serangan musuh-musuh Allah. Mak...\n",
              "3  Radikal  Allah Akbar..Teruslah maju melangkah, sekalipu...\n",
              "4  Radikal                          Islam Sejati Berani Mati "
            ]
          },
          "metadata": {
            "tags": []
          },
          "execution_count": 8
        }
      ]
    },
    {
      "cell_type": "code",
      "metadata": {
        "id": "QexxNk3hlWe-",
        "colab_type": "code",
        "colab": {}
      },
      "source": [
        ""
      ],
      "execution_count": 0,
      "outputs": []
    },
    {
      "cell_type": "code",
      "metadata": {
        "id": "U067UAxebl6k",
        "colab_type": "code",
        "outputId": "04b81277-ca17-4ee6-a8ec-0f77247c908a",
        "colab": {
          "base_uri": "https://localhost:8080/",
          "height": 312
        }
      },
      "source": [
        "data.describe()\n",
        "# data['category'][199]\n",
        "sns.countplot(data.category)\n",
        "plt.xlabel('Label')\n",
        "plt.title('Number Radikal and Non')"
      ],
      "execution_count": 0,
      "outputs": [
        {
          "output_type": "execute_result",
          "data": {
            "text/plain": [
              "Text(0.5, 1.0, 'Number Radikal and Non')"
            ]
          },
          "metadata": {
            "tags": []
          },
          "execution_count": 9
        },
        {
          "output_type": "display_data",
          "data": {
            "image/png": "[encoded data removed]",
            "text/plain": [
              "<Figure size 432x288 with 1 Axes>"
            ]
          },
          "metadata": {
            "tags": []
          }
        }
      ]
    },
    {
      "cell_type": "markdown",
      "metadata": {
        "id": "tfS9Rwb5cemP",
        "colab_type": "text"
      },
      "source": [
        "**Proses casefolding, filtering dan stemming**"
      ]
    },
    {
      "cell_type": "code",
      "metadata": {
        "id": "JTxC_r2rQrPv",
        "colab_type": "code",
        "colab": {}
      },
      "source": [
        "# create stemmer\n",
        "factory = StemmerFactory()\n",
        "stemmer = factory.create_stemmer()"
      ],
      "execution_count": 0,
      "outputs": []
    },
    {
      "cell_type": "code",
      "metadata": {
        "id": "-myIEZbdceTJ",
        "colab_type": "code",
        "colab": {}
      },
      "source": [
        "data['tweets'] = data['tweets'].astype(str) # Merubah tipe data tweets menjadi string\n",
        "data['tweets'] = data['tweets'].apply(lambda x: x.lower()) # Prosess Casefolding\n",
        "data['tweets'] = data['tweets'].apply((lambda x: re.sub('[^a-zA-z0-9\\s]','',x))) # Prosess Filtering\n",
        "data['tweets'] = data['tweets'].apply(lambda x: stemmer.stem(x)) # Prosess Stemming\n"
      ],
      "execution_count": 0,
      "outputs": []
    },
    {
      "cell_type": "code",
      "metadata": {
        "id": "NlBpAB5-c9YO",
        "colab_type": "code",
        "outputId": "7bb45225-b4a7-4d69-c877-e896624ecfe1",
        "colab": {
          "base_uri": "https://localhost:8080/",
          "height": 51
        }
      },
      "source": [
        "# Menghitung jumlah data radikal dan non\n",
        "print(data[ data['category'] == 'Radikal'].size)\n",
        "print(data[ data['category'] == 'Non'].size)"
      ],
      "execution_count": 0,
      "outputs": [
        {
          "output_type": "stream",
          "text": [
            "1060\n",
            "1060\n"
          ],
          "name": "stdout"
        }
      ]
    },
    {
      "cell_type": "code",
      "metadata": {
        "id": "vP-f-AzHdMaO",
        "colab_type": "code",
        "colab": {}
      },
      "source": [
        "# Menghilangkan kata rt pada tweets\n",
        "for idx,row in data.iterrows():\n",
        "    row[0] = row[0].replace('rt',' ')"
      ],
      "execution_count": 0,
      "outputs": []
    },
    {
      "cell_type": "code",
      "metadata": {
        "id": "QYXfkQVmI-DW",
        "colab_type": "code",
        "outputId": "c96f2ed6-db0e-440e-c5ad-a65d7294413e",
        "colab": {
          "base_uri": "https://localhost:8080/",
          "height": 204
        }
      },
      "source": [
        "data.head()"
      ],
      "execution_count": 0,
      "outputs": [
        {
          "output_type": "execute_result",
          "data": {
            "text/html": [
              "<div>\n",
              "<style scoped>\n",
              "    .dataframe tbody tr th:only-of-type {\n",
              "        vertical-align: middle;\n",
              "    }\n",
              "\n",
              "    .dataframe tbody tr th {\n",
              "        vertical-align: top;\n",
              "    }\n",
              "\n",
              "    .dataframe thead th {\n",
              "        text-align: right;\n",
              "    }\n",
              "</style>\n",
              "<table border=\"1\" class=\"dataframe\">\n",
              "  <thead>\n",
              "    <tr style=\"text-align: right;\">\n",
              "      <th></th>\n",
              "      <th>category</th>\n",
              "      <th>tweets</th>\n",
              "    </tr>\n",
              "  </thead>\n",
              "  <tbody>\n",
              "    <tr>\n",
              "      <th>0</th>\n",
              "      <td>Radikal</td>\n",
              "      <td>lah siapa ente kok mau larang dakwah agama all...</td>\n",
              "    </tr>\n",
              "    <tr>\n",
              "      <th>1</th>\n",
              "      <td>Radikal</td>\n",
              "      <td>tuju akhir adalah mati jihad</td>\n",
              "    </tr>\n",
              "    <tr>\n",
              "      <th>2</th>\n",
              "      <td>Radikal</td>\n",
              "      <td>makin beringas serang musuhmusuh allah makin d...</td>\n",
              "    </tr>\n",
              "    <tr>\n",
              "      <th>3</th>\n",
              "      <td>Radikal</td>\n",
              "      <td>allah akbarteruslah maju lang sekalipun banyak...</td>\n",
              "    </tr>\n",
              "    <tr>\n",
              "      <th>4</th>\n",
              "      <td>Radikal</td>\n",
              "      <td>islam sejati berani mati</td>\n",
              "    </tr>\n",
              "  </tbody>\n",
              "</table>\n",
              "</div>"
            ],
            "text/plain": [
              "  category                                             tweets\n",
              "0  Radikal  lah siapa ente kok mau larang dakwah agama all...\n",
              "1  Radikal                       tuju akhir adalah mati jihad\n",
              "2  Radikal  makin beringas serang musuhmusuh allah makin d...\n",
              "3  Radikal  allah akbarteruslah maju lang sekalipun banyak...\n",
              "4  Radikal                           islam sejati berani mati"
            ]
          },
          "metadata": {
            "tags": []
          },
          "execution_count": 14
        }
      ]
    },
    {
      "cell_type": "code",
      "metadata": {
        "id": "Shc_pAkeT1mq",
        "colab_type": "code",
        "colab": {}
      },
      "source": [
        "# data.to_csv('/gdrive/My Drive/LSTM Radikal/Development/data_radikal_clean.csv')\n",
        "# data = pd.read_csv(\"/gdrive/My Drive/LSTM Radikal/Development/data_radikal_clean.csv\", index_col = None, sep =\",\")"
      ],
      "execution_count": 0,
      "outputs": []
    },
    {
      "cell_type": "markdown",
      "metadata": {
        "id": "G4uMAeriJkvB",
        "colab_type": "text"
      },
      "source": [
        ""
      ]
    },
    {
      "cell_type": "code",
      "metadata": {
        "id": "buhSjNZVZmR9",
        "colab_type": "code",
        "colab": {}
      },
      "source": [
        "# data.head()"
      ],
      "execution_count": 0,
      "outputs": []
    },
    {
      "cell_type": "code",
      "metadata": {
        "id": "yFPKmNPdZ2o4",
        "colab_type": "code",
        "colab": {}
      },
      "source": [
        "# data_new = data.iloc[:,1:]"
      ],
      "execution_count": 0,
      "outputs": []
    },
    {
      "cell_type": "code",
      "metadata": {
        "id": "BDcIBcE7bnjf",
        "colab_type": "code",
        "colab": {}
      },
      "source": [
        "# data_new.head()"
      ],
      "execution_count": 0,
      "outputs": []
    },
    {
      "cell_type": "code",
      "metadata": {
        "id": "UZDdKu5UbrUC",
        "colab_type": "code",
        "colab": {}
      },
      "source": [
        "# data = data_new"
      ],
      "execution_count": 0,
      "outputs": []
    },
    {
      "cell_type": "code",
      "metadata": {
        "id": "0uJJi_EhFbCS",
        "colab_type": "code",
        "colab": {}
      },
      "source": [
        "# data.count()"
      ],
      "execution_count": 0,
      "outputs": []
    },
    {
      "cell_type": "markdown",
      "metadata": {
        "id": "YnRJqdLrUgX9",
        "colab_type": "text"
      },
      "source": [
        "**Proses model word2vec**"
      ]
    },
    {
      "cell_type": "code",
      "metadata": {
        "id": "BBbKS8mTNYeq",
        "colab_type": "code",
        "colab": {}
      },
      "source": [
        "# !pip install -q nltk"
      ],
      "execution_count": 0,
      "outputs": []
    },
    {
      "cell_type": "code",
      "metadata": {
        "id": "40v5_V2eNtIv",
        "colab_type": "code",
        "colab": {}
      },
      "source": [
        "# import string\n",
        "# import gensim\n",
        "# from nltk.corpus import stopwords\n",
        "# from nltk.tokenize import word_tokenize"
      ],
      "execution_count": 0,
      "outputs": []
    },
    {
      "cell_type": "code",
      "metadata": {
        "id": "_OMCYnBsP_hN",
        "colab_type": "code",
        "colab": {}
      },
      "source": [
        "# nltk.download(\"tokenize\")"
      ],
      "execution_count": 0,
      "outputs": []
    },
    {
      "cell_type": "code",
      "metadata": {
        "id": "XyVf6ZiwNYcH",
        "colab_type": "code",
        "colab": {}
      },
      "source": [
        "# tweet_lines = list()\n",
        "# lines = data['tweets'].values.tolist()"
      ],
      "execution_count": 0,
      "outputs": []
    },
    {
      "cell_type": "code",
      "metadata": {
        "id": "A9v9mI55J4Or",
        "colab_type": "code",
        "colab": {}
      },
      "source": [
        "# for line in lines:\n",
        "#   line = stemmer.stem(line)\n",
        "#   words = line.split()\n",
        "#   print(words)\n",
        "#   tweet_lines.append(words)\n"
      ],
      "execution_count": 0,
      "outputs": []
    },
    {
      "cell_type": "code",
      "metadata": {
        "id": "dhhTerWsJDLk",
        "colab_type": "code",
        "colab": {}
      },
      "source": [
        "# print(tweet_lines[0])\n",
        "# for line in tweet_lines:\n",
        "#   print(line)"
      ],
      "execution_count": 0,
      "outputs": []
    },
    {
      "cell_type": "code",
      "metadata": {
        "id": "yMHF0YHSK1pz",
        "colab_type": "code",
        "colab": {}
      },
      "source": [
        "# model = gensim.models.Word2Vec(tweet_lines, size=100, window=5, min_count=1, workers=3)"
      ],
      "execution_count": 0,
      "outputs": []
    },
    {
      "cell_type": "code",
      "metadata": {
        "id": "xy8op-wbMpDh",
        "colab_type": "code",
        "colab": {}
      },
      "source": [
        "# print(model)"
      ],
      "execution_count": 0,
      "outputs": []
    },
    {
      "cell_type": "code",
      "metadata": {
        "id": "0_eflIddTJhi",
        "colab_type": "code",
        "colab": {}
      },
      "source": [
        "# words = list(model.wv.vocab)"
      ],
      "execution_count": 0,
      "outputs": []
    },
    {
      "cell_type": "code",
      "metadata": {
        "id": "MFk0aULOTN-k",
        "colab_type": "code",
        "colab": {}
      },
      "source": [
        "# print(\"Vocab size: \" + str(len(words)))"
      ],
      "execution_count": 0,
      "outputs": []
    },
    {
      "cell_type": "code",
      "metadata": {
        "id": "iNl8ljLiTg1w",
        "colab_type": "code",
        "colab": {}
      },
      "source": [
        "# filename = \"/gdrive/My Drive/LSTM Radikal/radikal_word2vec.txt\"\n",
        "# model.wv.save_word2vec_format(filename, binary = False)"
      ],
      "execution_count": 0,
      "outputs": []
    },
    {
      "cell_type": "code",
      "metadata": {
        "id": "wpfU3-Q3UeQX",
        "colab_type": "code",
        "colab": {}
      },
      "source": [
        "import os\n",
        "# filename = \"/gdrive/My Drive/LSTM Radikal/radikal_word2vec.txt\"\n",
        "filename = \"/gdrive/My Drive/LSTM Radikal/wiki_word2vec.txt\"\n",
        "embeddings_index = {}\n",
        "f = open(os.path.join('',filename), encoding = \"utf-8\")"
      ],
      "execution_count": 0,
      "outputs": []
    },
    {
      "cell_type": "code",
      "metadata": {
        "id": "rKjDNA6wU2Iv",
        "colab_type": "code",
        "colab": {}
      },
      "source": [
        "for line in f:\n",
        "#   print(line)\n",
        "  values = line.split()\n",
        "  word = values[0]\n",
        "  coefs = np.asarray(values[1:])\n",
        "  embeddings_index[word] = coefs\n",
        "f.close()"
      ],
      "execution_count": 0,
      "outputs": []
    },
    {
      "cell_type": "markdown",
      "metadata": {
        "id": "EW2JYDcPdqMc",
        "colab_type": "text"
      },
      "source": [
        "**Proses Tokenisasi**"
      ]
    },
    {
      "cell_type": "code",
      "metadata": {
        "id": "_EOP6WRkdlc8",
        "colab_type": "code",
        "outputId": "5d7bd071-a887-4299-ca59-795ac1ca1acd",
        "colab": {
          "base_uri": "https://localhost:8080/",
          "height": 153
        }
      },
      "source": [
        "tokenizer = Tokenizer(num_words=1000, split=' ')\n",
        "tokenizer.fit_on_texts(data['tweets'].values)\n",
        "X = tokenizer.texts_to_sequences(data['tweets'].values)\n",
        "word_index = tokenizer.word_index\n",
        "\n",
        "\n",
        "X = pad_sequences(X)\n",
        "print(X.shape)\n",
        "print(X)\n",
        "# data['category'].shape\n"
      ],
      "execution_count": 0,
      "outputs": [
        {
          "output_type": "stream",
          "text": [
            "(1060, 66)\n",
            "[[252 136 300 ... 120 931  30]\n",
            " [  0   0   0 ...  25  83  13]\n",
            " [  0   0   0 ...   6 121 284]\n",
            " ...\n",
            " [  0   0   0 ...  50  39 651]\n",
            " [  0   0   0 ...  48 150  23]\n",
            " [  0   0   0 ... 174 117 883]]\n"
          ],
          "name": "stdout"
        }
      ]
    },
    {
      "cell_type": "markdown",
      "metadata": {
        "id": "utd_IA5PUp0N",
        "colab_type": "text"
      },
      "source": [
        "**SMOTE**"
      ]
    },
    {
      "cell_type": "code",
      "metadata": {
        "id": "GxhRbeCiVmWZ",
        "colab_type": "code",
        "outputId": "8b0ab681-9816-4305-ded3-2c545fd1ac5d",
        "colab": {
          "base_uri": "https://localhost:8080/",
          "height": 153
        }
      },
      "source": [
        "# Y = pd.get_dummies(data['category']).values\n",
        "# print(Y)\n",
        "\n",
        "encoded_labels = [1 if label =='Radikal' else 0 for label in data['category']]\n",
        "encoded_labels = np.array(encoded_labels)\n",
        "print(encoded_labels[0:10])\n",
        "\n",
        "y = to_categorical(encoded_labels, 2)\n",
        "print(y)"
      ],
      "execution_count": 0,
      "outputs": [
        {
          "output_type": "stream",
          "text": [
            "[1 1 1 1 1 1 1 1 1 1]\n",
            "[[0. 1.]\n",
            " [0. 1.]\n",
            " [0. 1.]\n",
            " ...\n",
            " [1. 0.]\n",
            " [1. 0.]\n",
            " [1. 0.]]\n"
          ],
          "name": "stdout"
        }
      ]
    },
    {
      "cell_type": "code",
      "metadata": {
        "id": "W9DoCK0gUpfq",
        "colab_type": "code",
        "outputId": "413ae43d-4239-4b2a-ddf1-0cda01b6f98a",
        "colab": {
          "base_uri": "https://localhost:8080/",
          "height": 85
        }
      },
      "source": [
        "from sklearn.model_selection import train_test_split\n",
        "from sklearn.linear_model import LogisticRegression \n",
        "from sklearn.preprocessing import StandardScaler \n",
        "from sklearn.metrics import confusion_matrix, classification_report\n",
        "\n",
        "# split into 70:30 ration \n",
        "X_train, X_test, y_train, y_test = train_test_split(X, y, test_size = 0.3, random_state = 0) \n",
        "\n",
        "# describes info about train and test set \n",
        "print(\"Number transactions X_train dataset: \", X_train.shape) \n",
        "print(\"Number transactions y_train dataset: \", y_train.shape) \n",
        "print(\"Number transactions X_test dataset: \", X_test.shape) \n",
        "print(\"Number transactions y_test dataset: \", y_test.shape) \n"
      ],
      "execution_count": 0,
      "outputs": [
        {
          "output_type": "stream",
          "text": [
            "Number transactions X_train dataset:  (742, 66)\n",
            "Number transactions y_train dataset:  (742, 2)\n",
            "Number transactions X_test dataset:  (318, 66)\n",
            "Number transactions y_test dataset:  (318, 2)\n"
          ],
          "name": "stdout"
        }
      ]
    },
    {
      "cell_type": "code",
      "metadata": {
        "id": "Cl1jDCBxVq39",
        "colab_type": "code",
        "colab": {}
      },
      "source": [
        "# logistic regression object \n",
        "lr = LogisticRegression() \n",
        "\n",
        "\n"
      ],
      "execution_count": 0,
      "outputs": []
    },
    {
      "cell_type": "code",
      "metadata": {
        "id": "ziprBaz0WLti",
        "colab_type": "code",
        "colab": {}
      },
      "source": [
        "# train the model on train set \n",
        "# lr.fit(X_train, y_train.ravel()) \n",
        "\n",
        "# predictions = lr.predict(X_test) \n",
        "\n",
        "# print classification report \n",
        "# print(classification_report(y_test, predictions)) "
      ],
      "execution_count": 0,
      "outputs": []
    },
    {
      "cell_type": "markdown",
      "metadata": {
        "id": "RDAZxFTRdaL5",
        "colab_type": "text"
      },
      "source": [
        "**TfIdf** "
      ]
    },
    {
      "cell_type": "code",
      "metadata": {
        "id": "CpS6AnbEAtr0",
        "colab_type": "code",
        "colab": {}
      },
      "source": [
        "from sklearn.model_selection import cross_val_predict\n",
        "from sklearn.model_selection import StratifiedKFold\n",
        "from sklearn.model_selection import train_test_split\n",
        "from sklearn.linear_model import LogisticRegression\n",
        "from sklearn.metrics import log_loss, accuracy_score\n",
        "from sklearn.feature_extraction.text import CountVectorizer\n",
        "from sklearn.feature_extraction.text import TfidfVectorizer\n",
        "from sklearn.svm import SVC\n",
        "from sklearn.decomposition import TruncatedSVD\n",
        "from sklearn.ensemble import RandomForestClassifier\n",
        "from sklearn.preprocessing import LabelEncoder\n",
        "import scikitplot.plotters as skplt"
      ],
      "execution_count": 0,
      "outputs": []
    },
    {
      "cell_type": "code",
      "metadata": {
        "id": "x6D-aHPDWZWE",
        "colab_type": "code",
        "outputId": "7c644c91-fab9-495c-948f-2fc05c4f6828",
        "colab": {
          "base_uri": "https://localhost:8080/",
          "height": 850
        }
      },
      "source": [
        "from sklearn.feature_extraction.text import TfidfVectorizer\n",
        "import nltk\n",
        "nltk.download(\"popular\")"
      ],
      "execution_count": 0,
      "outputs": [
        {
          "output_type": "stream",
          "text": [
            "[nltk_data] Downloading collection 'popular'\n",
            "[nltk_data]    | \n",
            "[nltk_data]    | Downloading package cmudict to /root/nltk_data...\n",
            "[nltk_data]    |   Package cmudict is already up-to-date!\n",
            "[nltk_data]    | Downloading package gazetteers to /root/nltk_data...\n",
            "[nltk_data]    |   Package gazetteers is already up-to-date!\n",
            "[nltk_data]    | Downloading package genesis to /root/nltk_data...\n",
            "[nltk_data]    |   Package genesis is already up-to-date!\n",
            "[nltk_data]    | Downloading package gutenberg to /root/nltk_data...\n",
            "[nltk_data]    |   Package gutenberg is already up-to-date!\n",
            "[nltk_data]    | Downloading package inaugural to /root/nltk_data...\n",
            "[nltk_data]    |   Package inaugural is already up-to-date!\n",
            "[nltk_data]    | Downloading package movie_reviews to\n",
            "[nltk_data]    |     /root/nltk_data...\n",
            "[nltk_data]    |   Package movie_reviews is already up-to-date!\n",
            "[nltk_data]    | Downloading package names to /root/nltk_data...\n",
            "[nltk_data]    |   Package names is already up-to-date!\n",
            "[nltk_data]    | Downloading package shakespeare to /root/nltk_data...\n",
            "[nltk_data]    |   Package shakespeare is already up-to-date!\n",
            "[nltk_data]    | Downloading package stopwords to /root/nltk_data...\n",
            "[nltk_data]    |   Package stopwords is already up-to-date!\n",
            "[nltk_data]    | Downloading package treebank to /root/nltk_data...\n",
            "[nltk_data]    |   Package treebank is already up-to-date!\n",
            "[nltk_data]    | Downloading package twitter_samples to\n",
            "[nltk_data]    |     /root/nltk_data...\n",
            "[nltk_data]    |   Package twitter_samples is already up-to-date!\n",
            "[nltk_data]    | Downloading package omw to /root/nltk_data...\n",
            "[nltk_data]    |   Package omw is already up-to-date!\n",
            "[nltk_data]    | Downloading package wordnet to /root/nltk_data...\n",
            "[nltk_data]    |   Package wordnet is already up-to-date!\n",
            "[nltk_data]    | Downloading package wordnet_ic to /root/nltk_data...\n",
            "[nltk_data]    |   Package wordnet_ic is already up-to-date!\n",
            "[nltk_data]    | Downloading package words to /root/nltk_data...\n",
            "[nltk_data]    |   Package words is already up-to-date!\n",
            "[nltk_data]    | Downloading package maxent_ne_chunker to\n",
            "[nltk_data]    |     /root/nltk_data...\n",
            "[nltk_data]    |   Package maxent_ne_chunker is already up-to-date!\n",
            "[nltk_data]    | Downloading package punkt to /root/nltk_data...\n",
            "[nltk_data]    |   Package punkt is already up-to-date!\n",
            "[nltk_data]    | Downloading package snowball_data to\n",
            "[nltk_data]    |     /root/nltk_data...\n",
            "[nltk_data]    |   Package snowball_data is already up-to-date!\n",
            "[nltk_data]    | Downloading package averaged_perceptron_tagger to\n",
            "[nltk_data]    |     /root/nltk_data...\n",
            "[nltk_data]    |   Package averaged_perceptron_tagger is already up-\n",
            "[nltk_data]    |       to-date!\n",
            "[nltk_data]    | \n",
            "[nltk_data]  Done downloading collection popular\n"
          ],
          "name": "stdout"
        },
        {
          "output_type": "execute_result",
          "data": {
            "text/plain": [
              "True"
            ]
          },
          "metadata": {
            "tags": []
          },
          "execution_count": 48
        }
      ]
    },
    {
      "cell_type": "code",
      "metadata": {
        "id": "r2J4EAKq_WDa",
        "colab_type": "code",
        "outputId": "37efdf7d-30ef-45bc-8cec-6215b670d396",
        "colab": {
          "base_uri": "https://localhost:8080/",
          "height": 34
        }
      },
      "source": [
        "count_vectorizer = TfidfVectorizer(\n",
        "    analyzer=\"word\", tokenizer=nltk.word_tokenize,\n",
        "    preprocessor=None, max_features=None)    \n",
        "\n",
        "tfidf = count_vectorizer.fit_transform(data['tweets'])\n",
        "\n",
        "len(count_vectorizer.get_feature_names())\n",
        "# print(tfidf)"
      ],
      "execution_count": 0,
      "outputs": [
        {
          "output_type": "execute_result",
          "data": {
            "text/plain": [
              "4158"
            ]
          },
          "metadata": {
            "tags": []
          },
          "execution_count": 49
        }
      ]
    },
    {
      "cell_type": "code",
      "metadata": {
        "id": "efjVyPB_1_oP",
        "colab_type": "code",
        "colab": {}
      },
      "source": [
        "def evaluate_features(X, y, clf=None):\n",
        "    \"\"\"General helper function for evaluating effectiveness of passed features in ML model\n",
        "    \n",
        "    Prints out Log loss, accuracy, and confusion matrix with 3-fold stratified cross-validation\n",
        "    \n",
        "    Args:\n",
        "        X (array-like): Features array. Shape (n_samples, n_features)\n",
        "        \n",
        "        y (array-like): Labels array. Shape (n_samples,)\n",
        "        \n",
        "        clf: Classifier to use. If None, default Log reg is use.\n",
        "    \"\"\"\n",
        "    if clf is None:\n",
        "        clf = LogisticRegression()\n",
        "    \n",
        "    probas = cross_val_predict(clf, X, y, cv=StratifiedKFold(random_state=8), \n",
        "                              n_jobs=-1, method='predict_proba', verbose=2)\n",
        "    pred_indices = np.argmax(probas, axis=1)\n",
        "    classes = np.unique(y)\n",
        "    preds = classes[pred_indices]\n",
        "    print('Log loss: {}'.format(log_loss(y, probas)))\n",
        "    print('Accuracy: {}'.format(accuracy_score(y, preds)))\n",
        "    skplt.plot_confusion_matrix(y, preds, figsize = (12,6), x_tick_rotation  = 20)"
      ],
      "execution_count": 0,
      "outputs": []
    },
    {
      "cell_type": "markdown",
      "metadata": {
        "id": "yL72lkHc_EIT",
        "colab_type": "text"
      },
      "source": [
        "**Confussion Matrix**"
      ]
    },
    {
      "cell_type": "code",
      "metadata": {
        "id": "LO3Liv_A_-7M",
        "colab_type": "code",
        "colab": {}
      },
      "source": [
        "from sklearn.decomposition import TruncatedSVD\n",
        "svd = TruncatedSVD(n_components=25, n_iter=25, random_state=12)\n",
        "truncated_tfidf = svd.fit_transform(tfidf)"
      ],
      "execution_count": 0,
      "outputs": []
    },
    {
      "cell_type": "code",
      "metadata": {
        "id": "rSylCFI2AYXp",
        "colab_type": "code",
        "outputId": "e81de1f2-ae05-4742-9414-d8b7d22573d5",
        "colab": {
          "base_uri": "https://localhost:8080/",
          "height": 531
        }
      },
      "source": [
        "evaluate_features(truncated_tfidf, data['category'].values.ravel())"
      ],
      "execution_count": 0,
      "outputs": [
        {
          "output_type": "stream",
          "text": [
            "/usr/local/lib/python3.6/dist-packages/sklearn/model_selection/_split.py:629: FutureWarning: The default value of n_split will change from 3 to 5 in version 0.22. Specify it explicitly to silence this warning.\n",
            "  warnings.warn(NSPLIT_WARNING, FutureWarning)\n",
            "[Parallel(n_jobs=-1)]: Using backend LokyBackend with 2 concurrent workers.\n",
            "[Parallel(n_jobs=-1)]: Done   3 out of   3 | elapsed:    1.4s finished\n",
            "/usr/local/lib/python3.6/dist-packages/sklearn/utils/deprecation.py:85: DeprecationWarning: Function plot_confusion_matrix is deprecated; This will be removed in v0.4.0. Please use scikitplot.metrics.plot_confusion_matrix instead.\n",
            "  warnings.warn(msg, category=DeprecationWarning)\n"
          ],
          "name": "stderr"
        },
        {
          "output_type": "stream",
          "text": [
            "Log loss: 0.6068213470909936\n",
            "Accuracy: 0.7028301886792453\n"
          ],
          "name": "stdout"
        },
        {
          "output_type": "display_data",
          "data": {
            "image/png": "[encoded data removed]",
            "text/plain": [
              "<Figure size 864x432 with 2 Axes>"
            ]
          },
          "metadata": {
            "tags": []
          }
        }
      ]
    },
    {
      "cell_type": "markdown",
      "metadata": {
        "id": "XAMUhlcPApCx",
        "colab_type": "text"
      },
      "source": [
        "**Tf-Idf with Random Forest**"
      ]
    },
    {
      "cell_type": "code",
      "metadata": {
        "id": "0Dck0S9AbVNt",
        "colab_type": "code",
        "outputId": "cff6cd09-eb4f-4632-dec5-0144bfd02a7a",
        "colab": {
          "base_uri": "https://localhost:8080/",
          "height": 404
        }
      },
      "source": [
        "evaluate_features(truncated_tfidf,data['category'].values.ravel(),RandomForestClassifier(n_estimators=1000, max_depth=5, verbose=1))"
      ],
      "execution_count": 0,
      "outputs": [
        {
          "output_type": "stream",
          "text": [
            "/usr/local/lib/python3.6/dist-packages/sklearn/model_selection/_split.py:629: FutureWarning: The default value of n_split will change from 3 to 5 in version 0.22. Specify it explicitly to silence this warning.\n",
            "  warnings.warn(NSPLIT_WARNING, FutureWarning)\n",
            "[Parallel(n_jobs=-1)]: Using backend LokyBackend with 2 concurrent workers.\n",
            "[Parallel(n_jobs=-1)]: Done   3 out of   3 | elapsed:    7.7s finished\n",
            "/usr/local/lib/python3.6/dist-packages/sklearn/utils/deprecation.py:85: DeprecationWarning: Function plot_confusion_matrix is deprecated; This will be removed in v0.4.0. Please use scikitplot.metrics.plot_confusion_matrix instead.\n",
            "  warnings.warn(msg, category=DeprecationWarning)\n"
          ],
          "name": "stderr"
        },
        {
          "output_type": "stream",
          "text": [
            "Log loss: 0.6141455380951837\n",
            "Accuracy: 0.6783018867924528\n"
          ],
          "name": "stdout"
        },
        {
          "output_type": "display_data",
          "data": {
            "image/png": "[encoded data removed]",
            "text/plain": [
              "<Figure size 432x288 with 2 Axes>"
            ]
          },
          "metadata": {
            "tags": []
          }
        }
      ]
    },
    {
      "cell_type": "code",
      "metadata": {
        "id": "9DYgx05K_D14",
        "colab_type": "code",
        "outputId": "480533a9-8df0-4f62-a9d1-a522407a71b6",
        "colab": {
          "base_uri": "https://localhost:8080/",
          "height": 408
        }
      },
      "source": [
        "evaluate_features(truncated_tfidf,data['category'].values.ravel(),SVC(kernel='linear', probability=True))"
      ],
      "execution_count": 0,
      "outputs": [
        {
          "output_type": "stream",
          "text": [
            "/usr/local/lib/python3.6/dist-packages/sklearn/model_selection/_split.py:629: FutureWarning: The default value of n_split will change from 3 to 5 in version 0.22. Specify it explicitly to silence this warning.\n",
            "  warnings.warn(NSPLIT_WARNING, FutureWarning)\n",
            "[Parallel(n_jobs=-1)]: Using backend LokyBackend with 2 concurrent workers.\n"
          ],
          "name": "stderr"
        },
        {
          "output_type": "stream",
          "text": [
            "Log loss: 0.63874194564906\n",
            "Accuracy: 0.7179245283018868\n"
          ],
          "name": "stdout"
        },
        {
          "output_type": "stream",
          "text": [
            "[Parallel(n_jobs=-1)]: Done   3 out of   3 | elapsed:    1.6s finished\n",
            "/usr/local/lib/python3.6/dist-packages/sklearn/utils/deprecation.py:85: DeprecationWarning: Function plot_confusion_matrix is deprecated; This will be removed in v0.4.0. Please use scikitplot.metrics.plot_confusion_matrix instead.\n",
            "  warnings.warn(msg, category=DeprecationWarning)\n"
          ],
          "name": "stderr"
        },
        {
          "output_type": "display_data",
          "data": {
            "image/png": "[encoded data removed]",
            "text/plain": [
              "<Figure size 432x288 with 2 Axes>"
            ]
          },
          "metadata": {
            "tags": []
          }
        }
      ]
    },
    {
      "cell_type": "markdown",
      "metadata": {
        "id": "EVL-Cs4UfC7e",
        "colab_type": "text"
      },
      "source": [
        "# Training"
      ]
    },
    {
      "cell_type": "markdown",
      "metadata": {
        "id": "9lGUzhSUd8wA",
        "colab_type": "text"
      },
      "source": [
        "**Fungsi untuk menampilkan hasil evaluasi menggunakan metric recall, precision, dan f1**"
      ]
    },
    {
      "cell_type": "code",
      "metadata": {
        "id": "KVAXSP8Sdt_R",
        "colab_type": "code",
        "colab": {}
      },
      "source": [
        "def recall_m(y_true, y_pred):\n",
        "  true_positives = K.sum(K.round(K.clip(y_true * y_pred, 0, 1)))\n",
        "  possible_positives = K.sum(K.round(K.clip(y_true, 0, 1)))\n",
        "  recall = true_positives / (possible_positives + K.epsilon())\n",
        "  return recall\n",
        "\n",
        "def precision_m(y_true, y_pred):\n",
        "  true_positives = K.sum(K.round(K.clip(y_true * y_pred, 0, 1)))\n",
        "  predicted_positives = K.sum(K.round(K.clip(y_pred, 0, 1)))\n",
        "  precision = true_positives / (predicted_positives + K.epsilon())\n",
        "  return precision\n",
        "\n",
        "def f1_m(y_true, y_pred):\n",
        "  precision = precision_m(y_true, y_pred)\n",
        "  recall = recall_m(y_true, y_pred)\n",
        "  return 2*((precision*recall)/(precision+recall+K.epsilon()))\n"
      ],
      "execution_count": 0,
      "outputs": []
    },
    {
      "cell_type": "markdown",
      "metadata": {
        "id": "MlCJ_ULqeXQp",
        "colab_type": "text"
      },
      "source": [
        "**Hyperparameter**"
      ]
    },
    {
      "cell_type": "code",
      "metadata": {
        "id": "5aWXaMedeUf5",
        "colab_type": "code",
        "colab": {}
      },
      "source": [
        "# Adding 1 because of reserved 0 index\n",
        "vocab_size = len(tokenizer.word_index) + 1\n",
        "# print(vocab_size)\n",
        "embed_dim = 100\n",
        "lstm_out = 150\n",
        "batch_size = 64\n",
        "lr = 0.0001"
      ],
      "execution_count": 0,
      "outputs": []
    },
    {
      "cell_type": "markdown",
      "metadata": {
        "id": "x18KoNQSWi9f",
        "colab_type": "text"
      },
      "source": [
        "**Embedding Matrix**"
      ]
    },
    {
      "cell_type": "code",
      "metadata": {
        "id": "S-pIsOKLWihK",
        "colab_type": "code",
        "colab": {}
      },
      "source": [
        "embedding_matrix = np.zeros((vocab_size, embed_dim))\n",
        "for word, i in word_index.items():\n",
        "  if i > vocab_size:\n",
        "    continue\n",
        "  embedding_vector = embeddings_index.get(word)\n",
        "  if embedding_vector is not None:\n",
        "    embedding_matrix[i] = embedding_vector"
      ],
      "execution_count": 0,
      "outputs": []
    },
    {
      "cell_type": "markdown",
      "metadata": {
        "id": "057l3pu7rXH5",
        "colab_type": "text"
      },
      "source": [
        ""
      ]
    },
    {
      "cell_type": "code",
      "metadata": {
        "id": "ixnLckz9aqFw",
        "colab_type": "code",
        "outputId": "e8955f89-570a-4e41-f9aa-cc04988fdf10",
        "colab": {
          "base_uri": "https://localhost:8080/"
        }
      },
      "source": [
        "print(embedding_matrix)"
      ],
      "execution_count": 0,
      "outputs": [
        {
          "output_type": "stream",
          "text": [
            "[[ 0.          0.          0.         ...  0.          0.\n",
            "   0.        ]\n",
            " [ 0.11851173 -1.4863455  -0.31366915 ... -1.61981    -0.12239946\n",
            "  -0.17125979]\n",
            " [-0.18721232 -0.10070437  2.4128578  ...  1.8376658   0.16101342\n",
            "  -1.0679529 ]\n",
            " ...\n",
            " [-1.1407295   1.825817   -0.21033221 ...  2.0161612  -0.12878363\n",
            "  -2.1062303 ]\n",
            " [ 0.6343693   1.1108342   0.1852357  ...  0.42759466 -1.0458143\n",
            "   0.62767017]\n",
            " [-0.1815253   0.07731415  0.05116158 ...  0.11939284 -0.13380156\n",
            "  -0.04658556]]\n"
          ],
          "name": "stdout"
        }
      ]
    },
    {
      "cell_type": "markdown",
      "metadata": {
        "id": "BmJ4C8Oce1q5",
        "colab_type": "text"
      },
      "source": [
        "**Proses Modeling**"
      ]
    },
    {
      "cell_type": "code",
      "metadata": {
        "id": "h_yF2ZH0ezo_",
        "colab_type": "code",
        "outputId": "3c4aec26-bd28-48d0-d67a-569ebe74cdf5",
        "colab": {
          "base_uri": "https://localhost:8080/"
        }
      },
      "source": [
        "# Modeling data 2 layer LSTM\n",
        "model = Sequential()\n",
        "model.add(Embedding(vocab_size, embed_dim, embeddings_initializer = Constant(embedding_matrix), input_length = X.shape[1]))\n",
        "# model.add(BatchNormalization())\n",
        "# model.add(Dropout(0.2))\n",
        "\n",
        "model.add(LSTM(lstm_out,return_sequences=True, activation = \"relu\"))\n",
        "model.add(Dropout(0.4))\n",
        "\n",
        "model.add(LSTM(lstm_out, activation = \"relu\"))\n",
        "model.add(Dropout(0.4))\n",
        "          \n",
        "# model.add(Dense(100, activation = \"sigmoid\"))\n",
        "# model.add(Dense(32, activation='sigmoid'))\n",
        "# model.add(Dropout(0.2))\n",
        "\n",
        "model.add(Dense(2, kernel_regularizer = regularizers.l2(0.1),activation='softmax'))\n",
        "# model.add(Dense(2,activation='sigmoid'))\n",
        "          \n",
        "adam = keras.optimizers.Adam(lr=lr)\n",
        "# model.compile(loss = 'binary_crossentropy', optimizer=adam,metrics = ['accuracy',recall_m, precision_m,f1_m])\n",
        "model.compile(loss = 'binary_crossentropy', optimizer=adam,metrics = ['accuracy'])\n",
        "\n",
        "print(model.summary())"
      ],
      "execution_count": 0,
      "outputs": [
        {
          "output_type": "stream",
          "text": [
            "WARNING:tensorflow:From /usr/local/lib/python3.6/dist-packages/keras/backend/tensorflow_backend.py:541: The name tf.placeholder is deprecated. Please use tf.compat.v1.placeholder instead.\n",
            "\n",
            "WARNING:tensorflow:From /usr/local/lib/python3.6/dist-packages/keras/backend/tensorflow_backend.py:4432: The name tf.random_uniform is deprecated. Please use tf.random.uniform instead.\n",
            "\n",
            "WARNING:tensorflow:From /usr/local/lib/python3.6/dist-packages/keras/backend/tensorflow_backend.py:148: The name tf.placeholder_with_default is deprecated. Please use tf.compat.v1.placeholder_with_default instead.\n",
            "\n",
            "WARNING:tensorflow:From /usr/local/lib/python3.6/dist-packages/keras/backend/tensorflow_backend.py:3733: calling dropout (from tensorflow.python.ops.nn_ops) with keep_prob is deprecated and will be removed in a future version.\n",
            "Instructions for updating:\n",
            "Please use `rate` instead of `keep_prob`. Rate should be set to `rate = 1 - keep_prob`.\n",
            "WARNING:tensorflow:From /usr/local/lib/python3.6/dist-packages/keras/optimizers.py:793: The name tf.train.Optimizer is deprecated. Please use tf.compat.v1.train.Optimizer instead.\n",
            "\n",
            "WARNING:tensorflow:From /usr/local/lib/python3.6/dist-packages/keras/backend/tensorflow_backend.py:3657: The name tf.log is deprecated. Please use tf.math.log instead.\n",
            "\n",
            "WARNING:tensorflow:From /usr/local/lib/python3.6/dist-packages/tensorflow_core/python/ops/nn_impl.py:183: where (from tensorflow.python.ops.array_ops) is deprecated and will be removed in a future version.\n",
            "Instructions for updating:\n",
            "Use tf.where in 2.0, which has the same broadcast rule as np.where\n",
            "Model: \"sequential_2\"\n",
            "_________________________________________________________________\n",
            "Layer (type)                 Output Shape              Param #   \n",
            "=================================================================\n",
            "embedding_1 (Embedding)      (None, 66, 100)           415900    \n",
            "_________________________________________________________________\n",
            "lstm_1 (LSTM)                (None, 66, 150)           150600    \n",
            "_________________________________________________________________\n",
            "dropout_1 (Dropout)          (None, 66, 150)           0         \n",
            "_________________________________________________________________\n",
            "lstm_2 (LSTM)                (None, 150)               180600    \n",
            "_________________________________________________________________\n",
            "dropout_2 (Dropout)          (None, 150)               0         \n",
            "_________________________________________________________________\n",
            "dense_1 (Dense)              (None, 2)                 302       \n",
            "=================================================================\n",
            "Total params: 747,402\n",
            "Trainable params: 747,402\n",
            "Non-trainable params: 0\n",
            "_________________________________________________________________\n",
            "None\n"
          ],
          "name": "stdout"
        }
      ]
    },
    {
      "cell_type": "markdown",
      "metadata": {
        "id": "jdjP-dji79nM",
        "colab_type": "text"
      },
      "source": [
        "**One hot-encode**"
      ]
    },
    {
      "cell_type": "code",
      "metadata": {
        "id": "9bSSl-iL6348",
        "colab_type": "code",
        "outputId": "22baffee-60ed-43b0-e3a0-a6cdbc6901a3",
        "colab": {
          "base_uri": "https://localhost:8080/"
        }
      },
      "source": [
        "# Y = pd.get_dummies(data['category']).values\n",
        "# print(Y)\n",
        "\n",
        "encoded_labels = [1 if label =='Radikal' else 0 for label in data['category']]\n",
        "encoded_labels = np.array(encoded_labels)\n",
        "print(encoded_labels[0:10])\n",
        "\n",
        "Y = to_categorical(encoded_labels, 2)\n",
        "print(Y)"
      ],
      "execution_count": 0,
      "outputs": [
        {
          "output_type": "stream",
          "text": [
            "[1 1 1 1 1 1 1 1 1 1]\n",
            "[[0. 1.]\n",
            " [0. 1.]\n",
            " [0. 1.]\n",
            " ...\n",
            " [1. 0.]\n",
            " [1. 0.]\n",
            " [1. 0.]]\n"
          ],
          "name": "stdout"
        }
      ]
    },
    {
      "cell_type": "markdown",
      "metadata": {
        "id": "qW6CITPCg2_M",
        "colab_type": "text"
      },
      "source": [
        "**Memecah data menjadi data training dan data test**"
      ]
    },
    {
      "cell_type": "code",
      "metadata": {
        "id": "CBy-3FMkevot",
        "colab_type": "code",
        "outputId": "62e2eb45-df5c-487d-ce29-a761262db51d",
        "colab": {
          "base_uri": "https://localhost:8080/"
        }
      },
      "source": [
        "X_train, X_test, Y_train, Y_test = train_test_split(X,Y, test_size = 0.3, random_state = 40, shuffle = True)\n",
        "\n",
        "print(X_train.shape,Y_train.shape)\n",
        "print(X_test.shape,Y_test.shape)"
      ],
      "execution_count": 0,
      "outputs": [
        {
          "output_type": "stream",
          "text": [
            "(742, 66) (742, 2)\n",
            "(318, 66) (318, 2)\n"
          ],
          "name": "stdout"
        }
      ]
    },
    {
      "cell_type": "markdown",
      "metadata": {
        "id": "FvugSazyiZ8n",
        "colab_type": "text"
      },
      "source": [
        "# Cross Validation Test"
      ]
    },
    {
      "cell_type": "code",
      "metadata": {
        "id": "_Tit8giwiZrw",
        "colab_type": "code",
        "colab": {}
      },
      "source": [
        "from sklearn.model_selection import StratifiedKFold\n",
        "import numpy"
      ],
      "execution_count": 0,
      "outputs": []
    },
    {
      "cell_type": "code",
      "metadata": {
        "id": "LOUq7Y34ihpM",
        "colab_type": "code",
        "colab": {}
      },
      "source": [
        "seed = 7\n",
        "numpy.random.seed(seed)\n",
        "kfold = StratifiedKFold(n_splits=10, shuffle=True, random_state=seed)\n",
        "cvscores = []\n",
        "# print(kfold)\n"
      ],
      "execution_count": 0,
      "outputs": []
    },
    {
      "cell_type": "code",
      "metadata": {
        "id": "tlYUYtOCjCWs",
        "colab_type": "code",
        "outputId": "94aa6b19-402a-4452-887c-f8415cdaf9fd",
        "colab": {
          "base_uri": "https://localhost:8080/",
          "height": 1000
        }
      },
      "source": [
        "for train, test in kfold.split(data['tweets'], data['category']):\n",
        "  # create model\n",
        "  model = Sequential()\n",
        "  model.add(Embedding(vocab_size, embed_dim, embeddings_initializer = Constant(embedding_matrix), input_length = X.shape[1]))\n",
        "  model.add(LSTM(lstm_out,return_sequences=True, activation = \"relu\"))\n",
        "  model.add(Dropout(0.4))\n",
        "  model.add(LSTM(lstm_out, activation = \"relu\"))\n",
        "  model.add(Dropout(0.4))\n",
        "  model.add(Dense(2, kernel_regularizer = regularizers.l2(0.1),activation='softmax'))        \n",
        "  # Compile model\n",
        "  adam = keras.optimizers.Adam(lr=lr)\n",
        "  model.compile(loss = 'binary_crossentropy', optimizer=adam,metrics = ['accuracy'])\n",
        "  # Fit the model\n",
        "  model.fit(X_train, Y_train, epochs = 100, batch_size=10, validation_data=(X_test,Y_test), verbose = 2)# evaluate the model\n",
        "#   scores = model.evaluate(X_test, Y_test, verbose=0)\n",
        "  print(\"%s: %.2f%%\" % (model.metrics_names[1], scores[1]*100))\n",
        "  cvscores.append(scores[1] * 100)\n",
        "print(\"%.2f%% (+/- %.2f%%)\" % (numpy.mean(cvscores), numpy.std(cvscores)))\n",
        "\n"
      ],
      "execution_count": 0,
      "outputs": [
        {
          "output_type": "stream",
          "text": [
            "WARNING:tensorflow:From /usr/local/lib/python3.6/dist-packages/keras/backend/tensorflow_backend.py:1033: The name tf.assign_add is deprecated. Please use tf.compat.v1.assign_add instead.\n",
            "\n",
            "WARNING:tensorflow:From /usr/local/lib/python3.6/dist-packages/keras/backend/tensorflow_backend.py:1020: The name tf.assign is deprecated. Please use tf.compat.v1.assign instead.\n",
            "\n",
            "WARNING:tensorflow:From /usr/local/lib/python3.6/dist-packages/keras/backend/tensorflow_backend.py:3005: The name tf.Session is deprecated. Please use tf.compat.v1.Session instead.\n",
            "\n",
            "Train on 742 samples, validate on 318 samples\n",
            "Epoch 1/100\n",
            "WARNING:tensorflow:From /usr/local/lib/python3.6/dist-packages/keras/backend/tensorflow_backend.py:190: The name tf.get_default_session is deprecated. Please use tf.compat.v1.get_default_session instead.\n",
            "\n",
            "WARNING:tensorflow:From /usr/local/lib/python3.6/dist-packages/keras/backend/tensorflow_backend.py:197: The name tf.ConfigProto is deprecated. Please use tf.compat.v1.ConfigProto instead.\n",
            "\n",
            "WARNING:tensorflow:From /usr/local/lib/python3.6/dist-packages/keras/backend/tensorflow_backend.py:207: The name tf.global_variables is deprecated. Please use tf.compat.v1.global_variables instead.\n",
            "\n",
            "WARNING:tensorflow:From /usr/local/lib/python3.6/dist-packages/keras/backend/tensorflow_backend.py:216: The name tf.is_variable_initialized is deprecated. Please use tf.compat.v1.is_variable_initialized instead.\n",
            "\n",
            "WARNING:tensorflow:From /usr/local/lib/python3.6/dist-packages/keras/backend/tensorflow_backend.py:223: The name tf.variables_initializer is deprecated. Please use tf.compat.v1.variables_initializer instead.\n",
            "\n",
            " - 15s - loss: 1.1019 - acc: 0.5040 - val_loss: 1.0581 - val_acc: 0.5535\n",
            "Epoch 2/100\n",
            " - 13s - loss: 1.0367 - acc: 0.5984 - val_loss: 1.0058 - val_acc: 0.6792\n",
            "Epoch 3/100\n",
            " - 13s - loss: 0.9773 - acc: 0.6819 - val_loss: 0.9404 - val_acc: 0.6887\n",
            "Epoch 4/100\n",
            " - 13s - loss: 0.8960 - acc: 0.7089 - val_loss: 0.9256 - val_acc: 0.6981\n",
            "Epoch 5/100\n",
            " - 14s - loss: 0.8576 - acc: 0.7251 - val_loss: 0.8643 - val_acc: 0.7201\n",
            "Epoch 6/100\n",
            " - 13s - loss: 0.7975 - acc: 0.7615 - val_loss: 0.8908 - val_acc: 0.7138\n",
            "Epoch 7/100\n",
            " - 13s - loss: 0.7400 - acc: 0.7776 - val_loss: 0.8336 - val_acc: 0.7421\n",
            "Epoch 8/100\n",
            " - 14s - loss: 0.7133 - acc: 0.7817 - val_loss: 0.8082 - val_acc: 0.7201\n",
            "Epoch 9/100\n",
            " - 13s - loss: 0.6573 - acc: 0.8113 - val_loss: 0.8197 - val_acc: 0.7138\n",
            "Epoch 10/100\n",
            " - 12s - loss: 0.6155 - acc: 0.8261 - val_loss: 0.8585 - val_acc: 0.7296\n",
            "Epoch 11/100\n",
            " - 13s - loss: 0.5610 - acc: 0.8558 - val_loss: 0.8800 - val_acc: 0.7170\n",
            "Epoch 12/100\n",
            " - 13s - loss: 0.4957 - acc: 0.8747 - val_loss: 1.0277 - val_acc: 0.7327\n",
            "Epoch 13/100\n",
            " - 13s - loss: 0.5116 - acc: 0.8639 - val_loss: 0.7565 - val_acc: 0.7264\n",
            "Epoch 14/100\n",
            " - 13s - loss: 0.4793 - acc: 0.8814 - val_loss: 1.0658 - val_acc: 0.7296\n",
            "Epoch 15/100\n",
            " - 13s - loss: 0.5581 - acc: 0.8531 - val_loss: 0.7022 - val_acc: 0.7264\n",
            "Epoch 16/100\n",
            " - 12s - loss: 0.4813 - acc: 0.8854 - val_loss: 0.8047 - val_acc: 0.7358\n",
            "Epoch 17/100\n",
            " - 13s - loss: 0.4210 - acc: 0.8949 - val_loss: 0.8454 - val_acc: 0.7327\n",
            "Epoch 18/100\n",
            " - 13s - loss: 0.5726 - acc: 0.8774 - val_loss: 1.3446 - val_acc: 0.7421\n",
            "Epoch 19/100\n",
            " - 14s - loss: 0.5156 - acc: 0.8827 - val_loss: 0.6884 - val_acc: 0.7484\n",
            "Epoch 20/100\n",
            " - 13s - loss: 0.4276 - acc: 0.9137 - val_loss: 0.8357 - val_acc: 0.7484\n",
            "Epoch 21/100\n",
            " - 14s - loss: 0.3642 - acc: 0.8989 - val_loss: 0.8766 - val_acc: 0.7516\n",
            "Epoch 22/100\n",
            " - 14s - loss: 0.3297 - acc: 0.9218 - val_loss: 1.0567 - val_acc: 0.7327\n",
            "Epoch 23/100\n",
            " - 14s - loss: 0.3030 - acc: 0.9313 - val_loss: 1.1931 - val_acc: 0.7358\n",
            "Epoch 24/100\n",
            " - 14s - loss: 0.2939 - acc: 0.9218 - val_loss: 1.2297 - val_acc: 0.7264\n",
            "Epoch 25/100\n",
            " - 13s - loss: 0.2672 - acc: 0.9367 - val_loss: 1.2819 - val_acc: 0.7327\n",
            "Epoch 26/100\n",
            " - 13s - loss: 0.2420 - acc: 0.9501 - val_loss: 1.5313 - val_acc: 0.7233\n",
            "Epoch 27/100\n",
            " - 13s - loss: 0.2395 - acc: 0.9501 - val_loss: 1.4031 - val_acc: 0.7358\n",
            "Epoch 28/100\n",
            " - 13s - loss: 0.2970 - acc: 0.9367 - val_loss: 0.9588 - val_acc: 0.7484\n",
            "Epoch 29/100\n",
            " - 12s - loss: 0.2629 - acc: 0.9434 - val_loss: 1.0227 - val_acc: 0.7327\n",
            "Epoch 30/100\n",
            " - 13s - loss: 0.2189 - acc: 0.9555 - val_loss: 1.2278 - val_acc: 0.7264\n",
            "Epoch 31/100\n",
            " - 13s - loss: 0.2551 - acc: 0.9474 - val_loss: 1.1448 - val_acc: 0.7296\n",
            "Epoch 32/100\n",
            " - 13s - loss: 0.1870 - acc: 0.9704 - val_loss: 1.3674 - val_acc: 0.7296\n",
            "Epoch 33/100\n",
            " - 12s - loss: 0.1775 - acc: 0.9717 - val_loss: 1.5988 - val_acc: 0.7264\n",
            "Epoch 34/100\n"
          ],
          "name": "stdout"
        },
        {
          "output_type": "error",
          "ename": "KeyboardInterrupt",
          "evalue": "ignored",
          "traceback": [
            "\u001b[0;31m---------------------------------------------------------------------------\u001b[0m",
            "\u001b[0;31mKeyboardInterrupt\u001b[0m                         Traceback (most recent call last)",
            "\u001b[0;32m<ipython-input-64-d81fe375488b>\u001b[0m in \u001b[0;36m<module>\u001b[0;34m()\u001b[0m\n\u001b[1;32m     12\u001b[0m   \u001b[0mmodel\u001b[0m\u001b[0;34m.\u001b[0m\u001b[0mcompile\u001b[0m\u001b[0;34m(\u001b[0m\u001b[0mloss\u001b[0m \u001b[0;34m=\u001b[0m \u001b[0;34m'binary_crossentropy'\u001b[0m\u001b[0;34m,\u001b[0m \u001b[0moptimizer\u001b[0m\u001b[0;34m=\u001b[0m\u001b[0madam\u001b[0m\u001b[0;34m,\u001b[0m\u001b[0mmetrics\u001b[0m \u001b[0;34m=\u001b[0m \u001b[0;34m[\u001b[0m\u001b[0;34m'accuracy'\u001b[0m\u001b[0;34m]\u001b[0m\u001b[0;34m)\u001b[0m\u001b[0;34m\u001b[0m\u001b[0;34m\u001b[0m\u001b[0m\n\u001b[1;32m     13\u001b[0m   \u001b[0;31m# Fit the model\u001b[0m\u001b[0;34m\u001b[0m\u001b[0;34m\u001b[0m\u001b[0;34m\u001b[0m\u001b[0m\n\u001b[0;32m---> 14\u001b[0;31m   \u001b[0mmodel\u001b[0m\u001b[0;34m.\u001b[0m\u001b[0mfit\u001b[0m\u001b[0;34m(\u001b[0m\u001b[0mX_train\u001b[0m\u001b[0;34m,\u001b[0m \u001b[0mY_train\u001b[0m\u001b[0;34m,\u001b[0m \u001b[0mepochs\u001b[0m \u001b[0;34m=\u001b[0m \u001b[0;36m100\u001b[0m\u001b[0;34m,\u001b[0m \u001b[0mbatch_size\u001b[0m\u001b[0;34m=\u001b[0m\u001b[0;36m10\u001b[0m\u001b[0;34m,\u001b[0m \u001b[0mvalidation_data\u001b[0m\u001b[0;34m=\u001b[0m\u001b[0;34m(\u001b[0m\u001b[0mX_test\u001b[0m\u001b[0;34m,\u001b[0m\u001b[0mY_test\u001b[0m\u001b[0;34m)\u001b[0m\u001b[0;34m,\u001b[0m \u001b[0mverbose\u001b[0m \u001b[0;34m=\u001b[0m \u001b[0;36m2\u001b[0m\u001b[0;34m)\u001b[0m\u001b[0;31m# evaluate the model\u001b[0m\u001b[0;34m\u001b[0m\u001b[0;34m\u001b[0m\u001b[0m\n\u001b[0m\u001b[1;32m     15\u001b[0m \u001b[0;31m#   scores = model.evaluate(X_test, Y_test, verbose=0)\u001b[0m\u001b[0;34m\u001b[0m\u001b[0;34m\u001b[0m\u001b[0;34m\u001b[0m\u001b[0m\n\u001b[1;32m     16\u001b[0m   \u001b[0mprint\u001b[0m\u001b[0;34m(\u001b[0m\u001b[0;34m\"%s: %.2f%%\"\u001b[0m \u001b[0;34m%\u001b[0m \u001b[0;34m(\u001b[0m\u001b[0mmodel\u001b[0m\u001b[0;34m.\u001b[0m\u001b[0mmetrics_names\u001b[0m\u001b[0;34m[\u001b[0m\u001b[0;36m1\u001b[0m\u001b[0;34m]\u001b[0m\u001b[0;34m,\u001b[0m \u001b[0mscores\u001b[0m\u001b[0;34m[\u001b[0m\u001b[0;36m1\u001b[0m\u001b[0;34m]\u001b[0m\u001b[0;34m*\u001b[0m\u001b[0;36m100\u001b[0m\u001b[0;34m)\u001b[0m\u001b[0;34m)\u001b[0m\u001b[0;34m\u001b[0m\u001b[0;34m\u001b[0m\u001b[0m\n",
            "\u001b[0;32m/usr/local/lib/python3.6/dist-packages/keras/engine/training.py\u001b[0m in \u001b[0;36mfit\u001b[0;34m(self, x, y, batch_size, epochs, verbose, callbacks, validation_split, validation_data, shuffle, class_weight, sample_weight, initial_epoch, steps_per_epoch, validation_steps, validation_freq, max_queue_size, workers, use_multiprocessing, **kwargs)\u001b[0m\n\u001b[1;32m   1176\u001b[0m                                         \u001b[0msteps_per_epoch\u001b[0m\u001b[0;34m=\u001b[0m\u001b[0msteps_per_epoch\u001b[0m\u001b[0;34m,\u001b[0m\u001b[0;34m\u001b[0m\u001b[0;34m\u001b[0m\u001b[0m\n\u001b[1;32m   1177\u001b[0m                                         \u001b[0mvalidation_steps\u001b[0m\u001b[0;34m=\u001b[0m\u001b[0mvalidation_steps\u001b[0m\u001b[0;34m,\u001b[0m\u001b[0;34m\u001b[0m\u001b[0;34m\u001b[0m\u001b[0m\n\u001b[0;32m-> 1178\u001b[0;31m                                         validation_freq=validation_freq)\n\u001b[0m\u001b[1;32m   1179\u001b[0m \u001b[0;34m\u001b[0m\u001b[0m\n\u001b[1;32m   1180\u001b[0m     def evaluate(self,\n",
            "\u001b[0;32m/usr/local/lib/python3.6/dist-packages/keras/engine/training_arrays.py\u001b[0m in \u001b[0;36mfit_loop\u001b[0;34m(model, fit_function, fit_inputs, out_labels, batch_size, epochs, verbose, callbacks, val_function, val_inputs, shuffle, callback_metrics, initial_epoch, steps_per_epoch, validation_steps, validation_freq)\u001b[0m\n\u001b[1;32m    202\u001b[0m                     \u001b[0mins_batch\u001b[0m\u001b[0;34m[\u001b[0m\u001b[0mi\u001b[0m\u001b[0;34m]\u001b[0m \u001b[0;34m=\u001b[0m \u001b[0mins_batch\u001b[0m\u001b[0;34m[\u001b[0m\u001b[0mi\u001b[0m\u001b[0;34m]\u001b[0m\u001b[0;34m.\u001b[0m\u001b[0mtoarray\u001b[0m\u001b[0;34m(\u001b[0m\u001b[0;34m)\u001b[0m\u001b[0;34m\u001b[0m\u001b[0;34m\u001b[0m\u001b[0m\n\u001b[1;32m    203\u001b[0m \u001b[0;34m\u001b[0m\u001b[0m\n\u001b[0;32m--> 204\u001b[0;31m                 \u001b[0mouts\u001b[0m \u001b[0;34m=\u001b[0m \u001b[0mfit_function\u001b[0m\u001b[0;34m(\u001b[0m\u001b[0mins_batch\u001b[0m\u001b[0;34m)\u001b[0m\u001b[0;34m\u001b[0m\u001b[0;34m\u001b[0m\u001b[0m\n\u001b[0m\u001b[1;32m    205\u001b[0m                 \u001b[0mouts\u001b[0m \u001b[0;34m=\u001b[0m \u001b[0mto_list\u001b[0m\u001b[0;34m(\u001b[0m\u001b[0mouts\u001b[0m\u001b[0;34m)\u001b[0m\u001b[0;34m\u001b[0m\u001b[0;34m\u001b[0m\u001b[0m\n\u001b[1;32m    206\u001b[0m                 \u001b[0;32mfor\u001b[0m \u001b[0ml\u001b[0m\u001b[0;34m,\u001b[0m \u001b[0mo\u001b[0m \u001b[0;32min\u001b[0m \u001b[0mzip\u001b[0m\u001b[0;34m(\u001b[0m\u001b[0mout_labels\u001b[0m\u001b[0;34m,\u001b[0m \u001b[0mouts\u001b[0m\u001b[0;34m)\u001b[0m\u001b[0;34m:\u001b[0m\u001b[0;34m\u001b[0m\u001b[0;34m\u001b[0m\u001b[0m\n",
            "\u001b[0;32m/usr/local/lib/python3.6/dist-packages/keras/backend/tensorflow_backend.py\u001b[0m in \u001b[0;36m__call__\u001b[0;34m(self, inputs)\u001b[0m\n\u001b[1;32m   2977\u001b[0m                     \u001b[0;32mreturn\u001b[0m \u001b[0mself\u001b[0m\u001b[0;34m.\u001b[0m\u001b[0m_legacy_call\u001b[0m\u001b[0;34m(\u001b[0m\u001b[0minputs\u001b[0m\u001b[0;34m)\u001b[0m\u001b[0;34m\u001b[0m\u001b[0;34m\u001b[0m\u001b[0m\n\u001b[1;32m   2978\u001b[0m \u001b[0;34m\u001b[0m\u001b[0m\n\u001b[0;32m-> 2979\u001b[0;31m             \u001b[0;32mreturn\u001b[0m \u001b[0mself\u001b[0m\u001b[0;34m.\u001b[0m\u001b[0m_call\u001b[0m\u001b[0;34m(\u001b[0m\u001b[0minputs\u001b[0m\u001b[0;34m)\u001b[0m\u001b[0;34m\u001b[0m\u001b[0;34m\u001b[0m\u001b[0m\n\u001b[0m\u001b[1;32m   2980\u001b[0m         \u001b[0;32melse\u001b[0m\u001b[0;34m:\u001b[0m\u001b[0;34m\u001b[0m\u001b[0;34m\u001b[0m\u001b[0m\n\u001b[1;32m   2981\u001b[0m             \u001b[0;32mif\u001b[0m \u001b[0mpy_any\u001b[0m\u001b[0;34m(\u001b[0m\u001b[0mis_tensor\u001b[0m\u001b[0;34m(\u001b[0m\u001b[0mx\u001b[0m\u001b[0;34m)\u001b[0m \u001b[0;32mfor\u001b[0m \u001b[0mx\u001b[0m \u001b[0;32min\u001b[0m \u001b[0minputs\u001b[0m\u001b[0;34m)\u001b[0m\u001b[0;34m:\u001b[0m\u001b[0;34m\u001b[0m\u001b[0;34m\u001b[0m\u001b[0m\n",
            "\u001b[0;32m/usr/local/lib/python3.6/dist-packages/keras/backend/tensorflow_backend.py\u001b[0m in \u001b[0;36m_call\u001b[0;34m(self, inputs)\u001b[0m\n\u001b[1;32m   2935\u001b[0m             \u001b[0mfetched\u001b[0m \u001b[0;34m=\u001b[0m \u001b[0mself\u001b[0m\u001b[0;34m.\u001b[0m\u001b[0m_callable_fn\u001b[0m\u001b[0;34m(\u001b[0m\u001b[0;34m*\u001b[0m\u001b[0marray_vals\u001b[0m\u001b[0;34m,\u001b[0m \u001b[0mrun_metadata\u001b[0m\u001b[0;34m=\u001b[0m\u001b[0mself\u001b[0m\u001b[0;34m.\u001b[0m\u001b[0mrun_metadata\u001b[0m\u001b[0;34m)\u001b[0m\u001b[0;34m\u001b[0m\u001b[0;34m\u001b[0m\u001b[0m\n\u001b[1;32m   2936\u001b[0m         \u001b[0;32melse\u001b[0m\u001b[0;34m:\u001b[0m\u001b[0;34m\u001b[0m\u001b[0;34m\u001b[0m\u001b[0m\n\u001b[0;32m-> 2937\u001b[0;31m             \u001b[0mfetched\u001b[0m \u001b[0;34m=\u001b[0m \u001b[0mself\u001b[0m\u001b[0;34m.\u001b[0m\u001b[0m_callable_fn\u001b[0m\u001b[0;34m(\u001b[0m\u001b[0;34m*\u001b[0m\u001b[0marray_vals\u001b[0m\u001b[0;34m)\u001b[0m\u001b[0;34m\u001b[0m\u001b[0;34m\u001b[0m\u001b[0m\n\u001b[0m\u001b[1;32m   2938\u001b[0m         \u001b[0;32mreturn\u001b[0m \u001b[0mfetched\u001b[0m\u001b[0;34m[\u001b[0m\u001b[0;34m:\u001b[0m\u001b[0mlen\u001b[0m\u001b[0;34m(\u001b[0m\u001b[0mself\u001b[0m\u001b[0;34m.\u001b[0m\u001b[0moutputs\u001b[0m\u001b[0;34m)\u001b[0m\u001b[0;34m]\u001b[0m\u001b[0;34m\u001b[0m\u001b[0;34m\u001b[0m\u001b[0m\n\u001b[1;32m   2939\u001b[0m \u001b[0;34m\u001b[0m\u001b[0m\n",
            "\u001b[0;32m/usr/local/lib/python3.6/dist-packages/tensorflow_core/python/client/session.py\u001b[0m in \u001b[0;36m__call__\u001b[0;34m(self, *args, **kwargs)\u001b[0m\n\u001b[1;32m   1470\u001b[0m         ret = tf_session.TF_SessionRunCallable(self._session._session,\n\u001b[1;32m   1471\u001b[0m                                                \u001b[0mself\u001b[0m\u001b[0;34m.\u001b[0m\u001b[0m_handle\u001b[0m\u001b[0;34m,\u001b[0m \u001b[0margs\u001b[0m\u001b[0;34m,\u001b[0m\u001b[0;34m\u001b[0m\u001b[0;34m\u001b[0m\u001b[0m\n\u001b[0;32m-> 1472\u001b[0;31m                                                run_metadata_ptr)\n\u001b[0m\u001b[1;32m   1473\u001b[0m         \u001b[0;32mif\u001b[0m \u001b[0mrun_metadata\u001b[0m\u001b[0;34m:\u001b[0m\u001b[0;34m\u001b[0m\u001b[0;34m\u001b[0m\u001b[0m\n\u001b[1;32m   1474\u001b[0m           \u001b[0mproto_data\u001b[0m \u001b[0;34m=\u001b[0m \u001b[0mtf_session\u001b[0m\u001b[0;34m.\u001b[0m\u001b[0mTF_GetBuffer\u001b[0m\u001b[0;34m(\u001b[0m\u001b[0mrun_metadata_ptr\u001b[0m\u001b[0;34m)\u001b[0m\u001b[0;34m\u001b[0m\u001b[0;34m\u001b[0m\u001b[0m\n",
            "\u001b[0;31mKeyboardInterrupt\u001b[0m: "
          ]
        }
      ]
    },
    {
      "cell_type": "markdown",
      "metadata": {
        "id": "ckziPzwLhC1T",
        "colab_type": "text"
      },
      "source": [
        "**Proses training model data**"
      ]
    },
    {
      "cell_type": "code",
      "metadata": {
        "id": "i3TdL0Jqg_iS",
        "colab_type": "code",
        "colab": {}
      },
      "source": [
        "# es = EarlyStopping(monitor='val_loss', mode='min', verbose=1, min_delta=0.1)\n",
        "# result = model.fit(X_train, Y_train, epochs = 50, batch_size=batch_size, validation_split = 0.1, callbacks=[es], verbose = 2)\n",
        "history = model.fit(X_train, Y_train, epochs = 50, batch_size=batch_size, validation_split = 0.33, verbose = 2)"
      ],
      "execution_count": 0,
      "outputs": []
    },
    {
      "cell_type": "code",
      "metadata": {
        "id": "y3hPn9R6hT3X",
        "colab_type": "code",
        "colab": {}
      },
      "source": [
        "plt.plot(history.history['acc'])\n",
        "plt.plot(history.history['val_acc'])\n",
        "# plt.plot(history.history['precision_m'])\n",
        "# plt.plot(history.history['f1_m'])\n",
        "# plt.plot(history.history['recall_m'])\n",
        "plt.title('model accuracy')\n",
        "plt.ylabel('accuracy')\n",
        "plt.xlabel('epoch')\n",
        "plt.legend(['train','val'],loc='upper left')\n",
        "plt.show()\n",
        "\n",
        "plt.plot(history.history['loss'])\n",
        "plt.plot(history.history['val_loss'])\n",
        "plt.title('model loss')\n",
        "plt.ylabel('loss')\n",
        "plt.xlabel('epoch')\n",
        "plt.legend(['train','val'],loc='upper left')\n",
        "plt.show()\n",
        "\n",
        "\n",
        "# plt.plot(history.history['precision_m'])\n",
        "# plt.plot(history.history['f1_m'])\n",
        "# plt.plot(history.history['recall_m'])\n",
        "# plt.title('model accuracy')\n",
        "# plt.ylabel('accuracy')\n",
        "# plt.xlabel('epoch')\n",
        "# plt.legend(['precision','f1','recall'],loc='upper left')\n",
        "# plt.show()\n",
        "\n",
        "# plt.hist(history.history['precision_m'])\n",
        "# plt.bar(20,history.history['f1_m'])\n",
        "# plt.bar(history.history['acc'],history.history['recall_m'])\n",
        "# plt.title('model accuracy')\n",
        "# plt.ylabel('accuracy')\n",
        "# plt.xlabel('epoch')\n",
        "# plt.legend(['precision'],loc='upper left')\n",
        "# plt.show()"
      ],
      "execution_count": 0,
      "outputs": []
    },
    {
      "cell_type": "code",
      "metadata": {
        "id": "4P4aWwO9cagg",
        "colab_type": "code",
        "colab": {}
      },
      "source": [
        "#  score = model.evaluate(X_test, Y_test, batch_size=64, verbose=2)"
      ],
      "execution_count": 0,
      "outputs": []
    },
    {
      "cell_type": "code",
      "metadata": {
        "id": "xCNxT_o-cgsP",
        "colab_type": "code",
        "colab": {}
      },
      "source": [
        "# print(\"Nilai akurasi: \" + str(score[0]))\n",
        "# print(\"Nilai loss: \" + str(score[1]))\n",
        "# print(\"Nilai recall: \" + str(score[2]))\n",
        "# print(\"Nilai precision: \" + str(score[3]))\n",
        "# print(\"Nilai f1: \" + str(score[4]))\n",
        "\n",
        "# plt.plot(history.history['precision_m'])\n",
        "# plt.plot(history.history['f1_m'])\n",
        "# plt.plot(history.history['recall_m'])\n",
        "# plt.bar()\n",
        "# plt.title('model accuracy')\n",
        "# plt.ylabel('accuracy')\n",
        "# plt.xlabel('epoch')\n",
        "# plt.legend(['precision','f1','recall'],loc='upper left')\n",
        "# plt.show()"
      ],
      "execution_count": 0,
      "outputs": []
    },
    {
      "cell_type": "code",
      "metadata": {
        "id": "20R5cVwgKZy-",
        "colab_type": "code",
        "colab": {}
      },
      "source": [
        "probas = model.predict(X_test)\n"
      ],
      "execution_count": 0,
      "outputs": []
    },
    {
      "cell_type": "code",
      "metadata": {
        "id": "qkyT4FbiVjOp",
        "colab_type": "code",
        "colab": {}
      },
      "source": [
        "pred_indices = np.argmax(probas, axis=1)\n",
        "classes = np.array(range(1, 10))\n",
        "preds = classes[pred_indices]\n",
        "print('Log loss: {}'.format(log_loss(classes[np.argmax(Y_test, axis=1)], probas)))\n",
        "print('Accuracy: {}'.format(accuracy_score(classes[np.argmax(Y_test, axis=1)], preds)))\n",
        "skplt.plot_confusion_matrix(classes[np.argmax(Y_test, axis=1)], preds)"
      ],
      "execution_count": 0,
      "outputs": []
    },
    {
      "cell_type": "code",
      "metadata": {
        "id": "J-4YDN3MVnaV",
        "colab_type": "code",
        "colab": {}
      },
      "source": [
        " "
      ],
      "execution_count": 0,
      "outputs": []
    }
  ]
}