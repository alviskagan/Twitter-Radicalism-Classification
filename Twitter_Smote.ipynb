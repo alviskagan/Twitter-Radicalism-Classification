{
  "nbformat": 4,
  "nbformat_minor": 0,
  "metadata": {
    "colab": {
      "name": "Twitter Smote.ipynb",
      "provenance": [],
      "include_colab_link": true
    },
    "kernelspec": {
      "name": "python3",
      "display_name": "Python 3"
    }
  },
  "cells": [
    {
      "cell_type": "markdown",
      "metadata": {
        "id": "view-in-github",
        "colab_type": "text"
      },
      "source": [
        "<a href=\"https://colab.research.google.com/github/alviskagan/Twitter-Radicalism-Classification/blob/master/Twitter_Smote.ipynb\" target=\"_parent\"><img src=\"https://colab.research.google.com/assets/colab-badge.svg\" alt=\"Open In Colab\"/></a>"
      ]
    },
    {
      "cell_type": "code",
      "metadata": {
        "id": "iS_oLSi2hhMN",
        "colab_type": "code",
        "outputId": "0c66d1fa-261d-48ea-b06d-58a9ab50b6d5",
        "colab": {
          "base_uri": "https://localhost:8080/",
          "height": 139
        }
      },
      "source": [
        "from google.colab import drive\n",
        "drive.mount('/gdrive')\n",
        "%cd /gdrive"
      ],
      "execution_count": 0,
      "outputs": [
        {
          "output_type": "stream",
          "text": [
            "Go to this URL in a browser: https://accounts.google.com/o/oauth2/auth?client_id=947318989803-6bn6qk8qdgf4n4g3pfee6491hc0brc4i.apps.googleusercontent.com&redirect_uri=urn%3aietf%3awg%3aoauth%3a2.0%3aoob&response_type=code&scope=email%20https%3a%2f%2fwww.googleapis.com%2fauth%2fdocs.test%20https%3a%2f%2fwww.googleapis.com%2fauth%2fdrive%20https%3a%2f%2fwww.googleapis.com%2fauth%2fdrive.photos.readonly%20https%3a%2f%2fwww.googleapis.com%2fauth%2fpeopleapi.readonly\n",
            "\n",
            "Enter your authorization code:\n",
            "··········\n",
            "Mounted at /gdrive\n",
            "/gdrive\n"
          ],
          "name": "stdout"
        }
      ]
    },
    {
      "cell_type": "code",
      "metadata": {
        "id": "FKHtYaXKiC8T",
        "colab_type": "code",
        "outputId": "1a6effbb-9383-4321-f889-5d36f28315b7",
        "colab": {
          "base_uri": "https://localhost:8080/",
          "height": 360
        }
      },
      "source": [
        "!pip install -q PySastrawi\n",
        "!pip install nltk\n",
        "!pip install scikit-plot\n",
        "!nltk.download()"
      ],
      "execution_count": 0,
      "outputs": [
        {
          "output_type": "stream",
          "text": [
            "\u001b[?25l\r\u001b[K     |█▋                              | 10kB 21.4MB/s eta 0:00:01\r\u001b[K     |███▏                            | 20kB 1.7MB/s eta 0:00:01\r\u001b[K     |████▊                           | 30kB 2.6MB/s eta 0:00:01\r\u001b[K     |██████▎                         | 40kB 1.7MB/s eta 0:00:01\r\u001b[K     |███████▉                        | 51kB 2.1MB/s eta 0:00:01\r\u001b[K     |█████████▍                      | 61kB 2.5MB/s eta 0:00:01\r\u001b[K     |███████████                     | 71kB 2.8MB/s eta 0:00:01\r\u001b[K     |████████████▌                   | 81kB 3.2MB/s eta 0:00:01\r\u001b[K     |██████████████                  | 92kB 3.6MB/s eta 0:00:01\r\u001b[K     |███████████████▋                | 102kB 2.7MB/s eta 0:00:01\r\u001b[K     |█████████████████▏              | 112kB 2.7MB/s eta 0:00:01\r\u001b[K     |██████████████████▊             | 122kB 2.7MB/s eta 0:00:01\r\u001b[K     |████████████████████▎           | 133kB 2.7MB/s eta 0:00:01\r\u001b[K     |█████████████████████▉          | 143kB 2.7MB/s eta 0:00:01\r\u001b[K     |███████████████████████▍        | 153kB 2.7MB/s eta 0:00:01\r\u001b[K     |█████████████████████████       | 163kB 2.7MB/s eta 0:00:01\r\u001b[K     |██████████████████████████▌     | 174kB 2.7MB/s eta 0:00:01\r\u001b[K     |████████████████████████████    | 184kB 2.7MB/s eta 0:00:01\r\u001b[K     |█████████████████████████████▋  | 194kB 2.7MB/s eta 0:00:01\r\u001b[K     |███████████████████████████████▏| 204kB 2.7MB/s eta 0:00:01\r\u001b[K     |████████████████████████████████| 215kB 2.7MB/s \n",
            "\u001b[?25hRequirement already satisfied: nltk in /usr/local/lib/python3.6/dist-packages (3.2.5)\n",
            "Requirement already satisfied: six in /usr/local/lib/python3.6/dist-packages (from nltk) (1.12.0)\n",
            "Collecting scikit-plot\n",
            "  Downloading https://files.pythonhosted.org/packages/7c/47/32520e259340c140a4ad27c1b97050dd3254fdc517b1d59974d47037510e/scikit_plot-0.3.7-py3-none-any.whl\n",
            "Requirement already satisfied: matplotlib>=1.4.0 in /usr/local/lib/python3.6/dist-packages (from scikit-plot) (3.1.2)\n",
            "Requirement already satisfied: joblib>=0.10 in /usr/local/lib/python3.6/dist-packages (from scikit-plot) (0.14.1)\n",
            "Requirement already satisfied: scipy>=0.9 in /usr/local/lib/python3.6/dist-packages (from scikit-plot) (1.3.3)\n",
            "Requirement already satisfied: scikit-learn>=0.18 in /usr/local/lib/python3.6/dist-packages (from scikit-plot) (0.21.3)\n",
            "Requirement already satisfied: kiwisolver>=1.0.1 in /usr/local/lib/python3.6/dist-packages (from matplotlib>=1.4.0->scikit-plot) (1.1.0)\n",
            "Requirement already satisfied: cycler>=0.10 in /usr/local/lib/python3.6/dist-packages (from matplotlib>=1.4.0->scikit-plot) (0.10.0)\n",
            "Requirement already satisfied: pyparsing!=2.0.4,!=2.1.2,!=2.1.6,>=2.0.1 in /usr/local/lib/python3.6/dist-packages (from matplotlib>=1.4.0->scikit-plot) (2.4.5)\n",
            "Requirement already satisfied: python-dateutil>=2.1 in /usr/local/lib/python3.6/dist-packages (from matplotlib>=1.4.0->scikit-plot) (2.6.1)\n",
            "Requirement already satisfied: numpy>=1.11 in /usr/local/lib/python3.6/dist-packages (from matplotlib>=1.4.0->scikit-plot) (1.17.4)\n",
            "Requirement already satisfied: setuptools in /usr/local/lib/python3.6/dist-packages (from kiwisolver>=1.0.1->matplotlib>=1.4.0->scikit-plot) (42.0.2)\n",
            "Requirement already satisfied: six in /usr/local/lib/python3.6/dist-packages (from cycler>=0.10->matplotlib>=1.4.0->scikit-plot) (1.12.0)\n",
            "Installing collected packages: scikit-plot\n",
            "Successfully installed scikit-plot-0.3.7\n",
            "/bin/bash: -c: line 1: syntax error: unexpected end of file\n"
          ],
          "name": "stdout"
        }
      ]
    },
    {
      "cell_type": "code",
      "metadata": {
        "id": "bWI5DH73i7nZ",
        "colab_type": "code",
        "outputId": "1d89bdd5-852f-41de-bc5c-0dde786198fa",
        "colab": {
          "base_uri": "https://localhost:8080/",
          "height": 139
        }
      },
      "source": [
        "pip install imblearn\n"
      ],
      "execution_count": 0,
      "outputs": [
        {
          "output_type": "stream",
          "text": [
            "Requirement already satisfied: imblearn in /usr/local/lib/python3.6/dist-packages (0.0)\n",
            "Requirement already satisfied: imbalanced-learn in /usr/local/lib/python3.6/dist-packages (from imblearn) (0.4.3)\n",
            "Requirement already satisfied: scikit-learn>=0.20 in /usr/local/lib/python3.6/dist-packages (from imbalanced-learn->imblearn) (0.21.3)\n",
            "Requirement already satisfied: numpy>=1.8.2 in /usr/local/lib/python3.6/dist-packages (from imbalanced-learn->imblearn) (1.17.4)\n",
            "Requirement already satisfied: scipy>=0.13.3 in /usr/local/lib/python3.6/dist-packages (from imbalanced-learn->imblearn) (1.3.3)\n",
            "Requirement already satisfied: joblib>=0.11 in /usr/local/lib/python3.6/dist-packages (from scikit-learn>=0.20->imbalanced-learn->imblearn) (0.14.1)\n"
          ],
          "name": "stdout"
        }
      ]
    },
    {
      "cell_type": "code",
      "metadata": {
        "id": "Xgb-_AZbiQi0",
        "colab_type": "code",
        "outputId": "a5f40ff9-0a1b-4f9a-a990-a692a084894d",
        "colab": {
          "base_uri": "https://localhost:8080/",
          "height": 80
        }
      },
      "source": [
        "import numpy as np # linear algebra\n",
        "import pandas as pd # data processing, CSV file I/O (e.g. pd.read_csv)\n",
        "import keras\n",
        "import re\n",
        "import seaborn as sns\n",
        "import matplotlib.pyplot as plt\n"
      ],
      "execution_count": 0,
      "outputs": [
        {
          "output_type": "stream",
          "text": [
            "Using TensorFlow backend.\n"
          ],
          "name": "stderr"
        },
        {
          "output_type": "display_data",
          "data": {
            "text/html": [
              "<p style=\"color: red;\">\n",
              "The default version of TensorFlow in Colab will soon switch to TensorFlow 2.x.<br>\n",
              "We recommend you <a href=\"https://www.tensorflow.org/guide/migrate\" target=\"_blank\">upgrade</a> now \n",
              "or ensure your notebook will continue to use TensorFlow 1.x via the <code>%tensorflow_version 1.x</code> magic:\n",
              "<a href=\"https://colab.research.google.com/notebooks/tensorflow_version.ipynb\" target=\"_blank\">more info</a>.</p>\n"
            ],
            "text/plain": [
              "<IPython.core.display.HTML object>"
            ]
          },
          "metadata": {
            "tags": []
          }
        }
      ]
    },
    {
      "cell_type": "code",
      "metadata": {
        "id": "Bux48ALXiYqq",
        "colab_type": "code",
        "colab": {}
      },
      "source": [
        "from sklearn.linear_model import LogisticRegression \n",
        "from sklearn.preprocessing import StandardScaler \n",
        "from sklearn.metrics import confusion_matrix, classification_report "
      ],
      "execution_count": 0,
      "outputs": []
    },
    {
      "cell_type": "code",
      "metadata": {
        "id": "H_Ul9qxejALg",
        "colab_type": "code",
        "outputId": "bf1c722b-ce2b-49d2-f7c5-3e1f9799dd72",
        "colab": {
          "base_uri": "https://localhost:8080/",
          "height": 71
        }
      },
      "source": [
        "from imblearn.over_sampling import SMOTE"
      ],
      "execution_count": 0,
      "outputs": [
        {
          "output_type": "stream",
          "text": [
            "/usr/local/lib/python3.6/dist-packages/sklearn/externals/six.py:31: DeprecationWarning: The module is deprecated in version 0.21 and will be removed in version 0.23 since we've dropped support for Python 2.7. Please rely on the official version of six (https://pypi.org/project/six/).\n",
            "  \"(https://pypi.org/project/six/).\", DeprecationWarning)\n"
          ],
          "name": "stderr"
        }
      ]
    },
    {
      "cell_type": "code",
      "metadata": {
        "id": "mFXDaMhgjOjr",
        "colab_type": "code",
        "colab": {}
      },
      "source": [
        "from Sastrawi.Stemmer.StemmerFactory import StemmerFactory"
      ],
      "execution_count": 0,
      "outputs": []
    },
    {
      "cell_type": "code",
      "metadata": {
        "id": "j9A8A3eojUcj",
        "colab_type": "code",
        "colab": {}
      },
      "source": [
        "from keras.preprocessing.text import Tokenizer\n",
        "from keras.preprocessing.sequence import pad_sequences\n",
        "from keras.models import Sequential\n",
        "from keras.layers import *\n",
        "from keras.callbacks import EarlyStopping\n",
        "from keras import regularizers\n",
        "from keras import backend as K\n",
        "from keras.initializers import Constant\n",
        "from keras.utils.np_utils import to_categorical\n",
        "from keras.utils.np_utils import to_categorical"
      ],
      "execution_count": 0,
      "outputs": []
    },
    {
      "cell_type": "code",
      "metadata": {
        "id": "avChPf_5jYZX",
        "colab_type": "code",
        "colab": {}
      },
      "source": [
        "from sklearn.feature_extraction.text import CountVectorizer\n",
        "from sklearn.model_selection import train_test_split\n",
        "from sklearn.metrics import classification_report, confusion_matrix"
      ],
      "execution_count": 0,
      "outputs": []
    },
    {
      "cell_type": "code",
      "metadata": {
        "id": "di0BZUQ6ivOx",
        "colab_type": "code",
        "outputId": "92d1b267-f277-40d6-bc67-e21a13c96846",
        "colab": {
          "base_uri": "https://localhost:8080/",
          "height": 170
        }
      },
      "source": [
        "# load the data set \n",
        "data = pd.read_csv(\"/gdrive/My Drive/LSTM Radikal/all.csv\", names = ['user','tweets','category'], sep =\",\")\n",
        "\n",
        "# print info about columns in the dataframe \n",
        "print(data.info()) "
      ],
      "execution_count": 0,
      "outputs": [
        {
          "output_type": "stream",
          "text": [
            "<class 'pandas.core.frame.DataFrame'>\n",
            "RangeIndex: 139 entries, 0 to 138\n",
            "Data columns (total 3 columns):\n",
            "user        139 non-null object\n",
            "tweets      139 non-null object\n",
            "category    139 non-null object\n",
            "dtypes: object(3)\n",
            "memory usage: 3.4+ KB\n",
            "None\n"
          ],
          "name": "stdout"
        }
      ]
    },
    {
      "cell_type": "code",
      "metadata": {
        "id": "6ZoKselen-Cr",
        "colab_type": "code",
        "outputId": "3e777fba-ae93-4dc2-eeba-777e1fb0cf54",
        "colab": {
          "base_uri": "https://localhost:8080/",
          "height": 204
        }
      },
      "source": [
        "data.head()"
      ],
      "execution_count": 0,
      "outputs": [
        {
          "output_type": "execute_result",
          "data": {
            "text/html": [
              "<div>\n",
              "<style scoped>\n",
              "    .dataframe tbody tr th:only-of-type {\n",
              "        vertical-align: middle;\n",
              "    }\n",
              "\n",
              "    .dataframe tbody tr th {\n",
              "        vertical-align: top;\n",
              "    }\n",
              "\n",
              "    .dataframe thead th {\n",
              "        text-align: right;\n",
              "    }\n",
              "</style>\n",
              "<table border=\"1\" class=\"dataframe\">\n",
              "  <thead>\n",
              "    <tr style=\"text-align: right;\">\n",
              "      <th></th>\n",
              "      <th>user</th>\n",
              "      <th>tweets</th>\n",
              "      <th>category</th>\n",
              "    </tr>\n",
              "  </thead>\n",
              "  <tbody>\n",
              "    <tr>\n",
              "      <th>0</th>\n",
              "      <td>@Gussumbogo</td>\n",
              "      <td>Lah siapa ente kok mau melarang dakwah Agama A...</td>\n",
              "      <td>Radikal-1</td>\n",
              "    </tr>\n",
              "    <tr>\n",
              "      <th>1</th>\n",
              "      <td>@WSuparmo</td>\n",
              "      <td>Tujuan akhir adalah mati JIHAD!</td>\n",
              "      <td>Radikal-1</td>\n",
              "    </tr>\n",
              "    <tr>\n",
              "      <th>2</th>\n",
              "      <td>@fauzanshbn</td>\n",
              "      <td>Makin beringas serangan musuh-musuh Allah. Mak...</td>\n",
              "      <td>Radikal-1</td>\n",
              "    </tr>\n",
              "    <tr>\n",
              "      <th>3</th>\n",
              "      <td>@RizalSaiba</td>\n",
              "      <td>Allah Akbar..!!! Teruslah maju melangkah, seka...</td>\n",
              "      <td>Radikal-1</td>\n",
              "    </tr>\n",
              "    <tr>\n",
              "      <th>4</th>\n",
              "      <td>@paanbakaq</td>\n",
              "      <td>Islam Sejati Berani Mati #UP The one only #Ber...</td>\n",
              "      <td>Radikal-1</td>\n",
              "    </tr>\n",
              "  </tbody>\n",
              "</table>\n",
              "</div>"
            ],
            "text/plain": [
              "          user                                             tweets   category\n",
              "0  @Gussumbogo  Lah siapa ente kok mau melarang dakwah Agama A...  Radikal-1\n",
              "1    @WSuparmo                    Tujuan akhir adalah mati JIHAD!  Radikal-1\n",
              "2  @fauzanshbn  Makin beringas serangan musuh-musuh Allah. Mak...  Radikal-1\n",
              "3  @RizalSaiba  Allah Akbar..!!! Teruslah maju melangkah, seka...  Radikal-1\n",
              "4   @paanbakaq  Islam Sejati Berani Mati #UP The one only #Ber...  Radikal-1"
            ]
          },
          "metadata": {
            "tags": []
          },
          "execution_count": 53
        }
      ]
    },
    {
      "cell_type": "code",
      "metadata": {
        "id": "JLMjUKszizg1",
        "colab_type": "code",
        "outputId": "c31cbbc0-df79-4297-8873-f1dfb8a64aa2",
        "colab": {
          "base_uri": "https://localhost:8080/",
          "height": 312
        }
      },
      "source": [
        "data.describe()\n",
        "# data['category'][199]\n",
        "sns.countplot(data.category)\n",
        "plt.xlabel('Label')\n",
        "plt.title('Number Radikal and Non')"
      ],
      "execution_count": 0,
      "outputs": [
        {
          "output_type": "execute_result",
          "data": {
            "text/plain": [
              "Text(0.5, 1.0, 'Number Radikal and Non')"
            ]
          },
          "metadata": {
            "tags": []
          },
          "execution_count": 54
        },
        {
          "output_type": "display_data",
          "data": {
            "image/png": "[encoded data removed]",
            "text/plain": [
              "<Figure size 432x288 with 1 Axes>"
            ]
          },
          "metadata": {
            "tags": []
          }
        }
      ]
    },
    {
      "cell_type": "code",
      "metadata": {
        "id": "DEe1SNJJi1VO",
        "colab_type": "code",
        "colab": {}
      },
      "source": [
        "# create stemmer\n",
        "factory = StemmerFactory()\n",
        "stemmer = factory.create_stemmer()"
      ],
      "execution_count": 0,
      "outputs": []
    },
    {
      "cell_type": "code",
      "metadata": {
        "id": "V3icRmYljIe1",
        "colab_type": "code",
        "colab": {}
      },
      "source": [
        "data['tweets'] = data['tweets'].astype(str) # Merubah tipe data tweets menjadi string\n",
        "data['tweets'] = data['tweets'].apply(lambda x: x.lower()) # Prosess Casefolding\n",
        "data['tweets'] = data['tweets'].apply((lambda x: re.sub('[^a-zA-z0-9\\s]','',x))) # Prosess Filtering\n",
        "data['tweets'] = data['tweets'].apply(lambda x: stemmer.stem(x)) # Prosess Stemming\n"
      ],
      "execution_count": 0,
      "outputs": []
    },
    {
      "cell_type": "code",
      "metadata": {
        "id": "zVsqkydSjgQX",
        "colab_type": "code",
        "outputId": "0d4caf74-e7e0-42e5-829f-f23943f614b3",
        "colab": {
          "base_uri": "https://localhost:8080/",
          "height": 102
        }
      },
      "source": [
        "# Menghitung jumlah data radikal dan non\n",
        "print(data[ data['category'] == 'Radikal-1'].size)\n",
        "print(data[ data['category'] == 'Radikal-2'].size)\n",
        "print(data[ data['category'] == 'Radikal-3'].size)\n",
        "print(data[ data['category'] == 'Radikal-4'].size)\n",
        "print(data[ data['category'] == 'Netral'].size)"
      ],
      "execution_count": 0,
      "outputs": [
        {
          "output_type": "stream",
          "text": [
            "81\n",
            "72\n",
            "69\n",
            "99\n",
            "96\n"
          ],
          "name": "stdout"
        }
      ]
    },
    {
      "cell_type": "code",
      "metadata": {
        "id": "aB-PrBZVjiEB",
        "colab_type": "code",
        "colab": {}
      },
      "source": [
        "# Menghilangkan kata rt pada tweets\n",
        "for idx,row in data.iterrows():\n",
        "    row[0] = row[0].replace('rt',' ')"
      ],
      "execution_count": 0,
      "outputs": []
    },
    {
      "cell_type": "markdown",
      "metadata": {
        "id": "GRb9OsmVV4qG",
        "colab_type": "text"
      },
      "source": [
        "**Slangword pre-processing**"
      ]
    },
    {
      "cell_type": "code",
      "metadata": {
        "id": "zDWKbOROV9Q-",
        "colab_type": "code",
        "colab": {}
      },
      "source": [
        "import re\n",
        "import nltk\n",
        "import pandas as pd\n",
        "\n",
        "String = \"Buku ini selalu di rekomendasi,... *sebagai salah satu novel terbaik, #BukuBagus\" \\\n",
        "         \"@rifqifai Woaaahh.. udah habiissss.. n penasaran lanjutannya \" \\\n",
        "         \" huuu,,, huu,,, HuuuuSudah lama nggak menangis sambil tertawa karena membaca buku. ==a\" \\\n",
        "         \"Saya terkagum-kagum dengan pribadi Nyai Ontosoroh, yaitu Sunikem\" \\\n",
        "         \" persahabatan yang mereka jalin sungguh manis sekali... :)\" \\\n",
        "         \" 'Kenapa baru baca sekarang!?!?!?!?' Memang buku yang sungguh luar biasa. \\^_^/\" \\\n",
        "         \"Bintang 5 dech. Bukuu yang benar-benar membuat saya termotivasi, Membuat saya hangat *etcieh.\" \\\n",
        "         \"Wow.. Cuma itu yang bisa aku ucapkan setelah menamatkan novel ini.\" \\\n",
        "         \" Ngilu baca bukunya, hiks hiks hiks.\"\n"
      ],
      "execution_count": 0,
      "outputs": []
    },
    {
      "cell_type": "code",
      "metadata": {
        "id": "_YRKmKtdWFVu",
        "colab_type": "code",
        "colab": {}
      },
      "source": [
        "def casefolding(review):\n",
        "    review = review.lower()\n",
        "    return review\n",
        "\n",
        "def tokenize(review):\n",
        "    token = nltk.word_tokenize(review)\n",
        "    return token\n",
        "\n",
        "def filtering(review):\n",
        "    # Remove angka termasuk angka yang berada dalam string\n",
        "    # Remove non ASCII chars\n",
        "    review = re.sub(r'[^\\x00-\\x7f]', r'', review)\n",
        "    review = re.sub(r'(\\\\u[0-9A-Fa-f]+)', r'', review)\n",
        "    review = re.sub(r\"[^A-Za-z0-9^,!.\\/'+-=]\", \" \", review)\n",
        "    review = re.sub(r'\\\\u\\w\\w\\w\\w', '', review)\n",
        "    # Remove link web\n",
        "    review = re.sub(r'http\\S+', '', review)\n",
        "    # Remove @username\n",
        "    review = re.sub('@[^\\s]+', '', review)\n",
        "    # Remove #tagger\n",
        "    review = re.sub(r'#([^\\s]+)', '', review)\n",
        "    # Remove simbol, angka dan karakter aneh\n",
        "    review = re.sub(r\"[.,:;+!\\-_<^/=?\\\"'\\(\\)\\d\\*]\", \" \", review)\n",
        "    return review\n",
        "\n",
        "def replaceThreeOrMore(review):\n",
        "    # Pattern to look for three or more repetitions of any character, including newlines (contoh goool -> gol).\n",
        "    pattern = re.compile(r\"(.)\\1{1,}\", re.DOTALL)\n",
        "    return pattern.sub(r\"\\1\", review)\n",
        "\n",
        "def convertToSlangword(review):\n",
        "    kamus_slangword = eval(open(\"/gdrive/My Drive/LSTM Radikal/slangwords.txt\").read()) # Membuka dictionary slangword\n",
        "    pattern = re.compile(r'\\b( ' + '|'.join (kamus_slangword.keys())+r')\\b') # Search pola kata (contoh kpn -> kapan)\n",
        "    content = []\n",
        "    for kata in review:\n",
        "        filteredSlang = pattern.sub(lambda x: kamus_slangword[x.group()],kata) # Replace slangword berdasarkan pola review yg telah ditentukan\n",
        "        content.append(filteredSlang.lower())\n",
        "    review = content\n",
        "    return review\n",
        "\n",
        "def removeStopword(review):\n",
        "    stopwords = open('stopword-tala.txt', 'r').read().split()\n",
        "    content = []\n",
        "    filteredtext = [word for word in review.split() if word not in stopwords]\n",
        "    content.append(\" \".join(filteredtext))\n",
        "    review = content\n",
        "    return review\n",
        "\n"
      ],
      "execution_count": 0,
      "outputs": []
    },
    {
      "cell_type": "code",
      "metadata": {
        "id": "zhghxHO_XDKm",
        "colab_type": "code",
        "colab": {}
      },
      "source": [
        "# stringData = casefolding(String)\n",
        "# print (stringData)\n",
        "\n",
        "# data = pd.read_csv('data-label.csv', encoding='latin-1')\n",
        "# Keeping only the neccessary columns\n",
        "datasets = [data]"
      ],
      "execution_count": 0,
      "outputs": []
    },
    {
      "cell_type": "code",
      "metadata": {
        "id": "Mh5as3QbXFK2",
        "colab_type": "code",
        "outputId": "59c52a18-a9ae-4521-9569-b7c3545da41e",
        "colab": {
          "base_uri": "https://localhost:8080/",
          "height": 255
        }
      },
      "source": [
        "datasets"
      ],
      "execution_count": 0,
      "outputs": [
        {
          "output_type": "execute_result",
          "data": {
            "text/plain": [
              "[            user                                             tweets   category\n",
              " 0    @Gussumbogo  lah siapa ente kok mau larang dakwah agama all...  Radikal-1\n",
              " 1      @WSuparmo                       tuju akhir adalah mati jihad  Radikal-1\n",
              " 2    @fauzanshbn  makin beringas serang musuhmusuh allah makin d...  Radikal-1\n",
              " 3    @RizalSaiba  allah akbar terus maju lang sekalipun banyak h...  Radikal-1\n",
              " 4     @paanbakaq  islam sejati berani mati up the one only berse...  Radikal-1\n",
              " ..           ...                                                ...        ...\n",
              " 134    @Detikcom  lima hari jelang ramadhan harga bahan pokok te...     Netral\n",
              " 135    @Detikcom  inggris tengah laku audit pada facebook kait s...     Netral\n",
              " 136    @Detikcom  made deya suraswati dari kampus bus jakarta ca...     Netral\n",
              " 137    @Detikcom  rekam yang ambil tumpang di dalam pesawat tunj...     Netral\n",
              " 138    @Detikcom  mau ikut tes cpns 2018 simak dulu tips tes seh...     Netral\n",
              " \n",
              " [139 rows x 3 columns]]"
            ]
          },
          "metadata": {
            "tags": []
          },
          "execution_count": 61
        }
      ]
    },
    {
      "cell_type": "code",
      "metadata": {
        "id": "bDr71CfrWJDy",
        "colab_type": "code",
        "outputId": "3cb700ac-ef53-4488-ba1b-3d5b77b5b07a",
        "colab": {
          "base_uri": "https://localhost:8080/",
          "height": 357
        }
      },
      "source": [
        "  for teks in datasets:\n",
        "    label = teks['category']\n",
        "    teks = teks['tweets'].apply(casefolding)\n",
        "    teks = teks.apply(filtering)\n",
        "    teks = teks.apply(replaceThreeOrMore)\n",
        "    teks = teks.apply(tokenize)\n",
        "    teks = teks.apply(convertToSlangword)\n",
        "    teks = teks.apply(\" \".join)\n",
        "    # teks = teks.apply(removeStopword)\n",
        "    # teks = teks.apply(\" \".join)\n",
        "    print(teks)\n",
        "\n",
        "review_dict = {'tweets': teks, 'category' : label}\n",
        "df = pd.DataFrame(review_dict, columns = ['tweets', 'category'])\n",
        "print(df.info())\n"
      ],
      "execution_count": 0,
      "outputs": [
        {
          "output_type": "stream",
          "text": [
            "0      lah siapa ente kok mau larang dakwah agama ala...\n",
            "1                           tuju akhir adalah mati jihad\n",
            "2      semakin beringas serang musuhmusuh alah semaki...\n",
            "3      alah akbar terus maju lang sekalipun banyak ha...\n",
            "4      islam sejati berani mati up the satu only bers...\n",
            "                             ...                        \n",
            "134    lima hari jelang ramadhan harga bahan pokok te...\n",
            "135    ingris tengah laku audit pada facebok kait ska...\n",
            "136    made deya suraswati dari kampus bus jakarta ca...\n",
            "137    rekam yang ambil tumpang di dalam pesawat tunj...\n",
            "138    mau ikut tes cpns simak dulu tips tes sehat ag...\n",
            "Name: tweets, Length: 139, dtype: object\n",
            "<class 'pandas.core.frame.DataFrame'>\n",
            "RangeIndex: 139 entries, 0 to 138\n",
            "Data columns (total 2 columns):\n",
            "tweets      139 non-null object\n",
            "category    139 non-null object\n",
            "dtypes: object(2)\n",
            "memory usage: 2.3+ KB\n",
            "None\n"
          ],
          "name": "stdout"
        }
      ]
    },
    {
      "cell_type": "code",
      "metadata": {
        "id": "0b5CxdywXqFy",
        "colab_type": "code",
        "colab": {}
      },
      "source": [
        "df.to_csv('/gdrive/My Drive/LSTM Radikal/data-bersih.csv', sep= ',' , encoding='utf-8')"
      ],
      "execution_count": 0,
      "outputs": []
    },
    {
      "cell_type": "markdown",
      "metadata": {
        "id": "0MkibhEMlzaJ",
        "colab_type": "text"
      },
      "source": [
        "**word2vec**"
      ]
    },
    {
      "cell_type": "code",
      "metadata": {
        "id": "wK9ysLl-l3Ee",
        "colab_type": "code",
        "colab": {}
      },
      "source": [
        "import os\n",
        "# filename = \"/gdrive/My Drive/LSTM Radikal/radikal_word2vec.txt\"\n",
        "filename = \"/gdrive/My Drive/LSTM Radikal/wiki_word2vec.txt\"\n",
        "embeddings_index = {}\n",
        "f = open(os.path.join('',filename), encoding = \"utf-8\")"
      ],
      "execution_count": 0,
      "outputs": []
    },
    {
      "cell_type": "code",
      "metadata": {
        "id": "qyuzJ7UVl6rB",
        "colab_type": "code",
        "colab": {}
      },
      "source": [
        "for line in f:\n",
        "#   print(line)\n",
        "  values = line.split()\n",
        "  word = values[0]\n",
        "  coefs = np.asarray(values[1:])\n",
        "  embeddings_index[word] = coefs\n",
        "f.close()"
      ],
      "execution_count": 0,
      "outputs": []
    },
    {
      "cell_type": "markdown",
      "metadata": {
        "id": "5ihUNEVulwth",
        "colab_type": "text"
      },
      "source": [
        "**Tokenisasi**"
      ]
    },
    {
      "cell_type": "code",
      "metadata": {
        "id": "xHIegB0mjjvt",
        "colab_type": "code",
        "outputId": "2363c058-2650-4462-d954-45b67186fdb6",
        "colab": {
          "base_uri": "https://localhost:8080/",
          "height": 153
        }
      },
      "source": [
        "tokenizer = Tokenizer(num_words=1000, split=' ')\n",
        "tokenizer.fit_on_texts(data['tweets'].values)\n",
        "X = tokenizer.texts_to_sequences(data['tweets'].values)\n",
        "word_index = tokenizer.word_index\n",
        "\n",
        "\n",
        "X = pad_sequences(X)\n",
        "print(X.shape)\n",
        "print(X)\n",
        "# data['category'].shape\n"
      ],
      "execution_count": 0,
      "outputs": [
        {
          "output_type": "stream",
          "text": [
            "(139, 45)\n",
            "[[  0   0   0 ...  63 340   8]\n",
            " [  0   0   0 ...  24  12   7]\n",
            " [  0   0   0 ...   3 105  64]\n",
            " ...\n",
            " [  0   0   0 ... 961 962 963]\n",
            " [  0   0   0 ... 967 274 968]\n",
            " [  0   0   0 ... 177  50 974]]\n"
          ],
          "name": "stdout"
        }
      ]
    },
    {
      "cell_type": "code",
      "metadata": {
        "id": "aMaiaPTLjmX-",
        "colab_type": "code",
        "outputId": "0e771cd2-8930-4ddb-d002-89c20eb075a0",
        "colab": {
          "base_uri": "https://localhost:8080/",
          "height": 122
        }
      },
      "source": [
        "# Y = pd.get_dummies(data['category']).values\n",
        "# print(Y)\n",
        "\n",
        "encoded_labels = []\n",
        "for label in data['category'].values:\n",
        "#   print(label)\n",
        "  if label =='Netral':\n",
        "    encoded_labels.append(0)\n",
        "  elif label == 'Radikal-1':\n",
        "    encoded_labels.append(1)\n",
        "  elif label == 'Radikal-2':\n",
        "    encoded_labels.append(2)\n",
        "  elif label == 'Radikal-3':\n",
        "    encoded_labels.append(3)\n",
        "  elif label == 'Radikal-4': \n",
        "    encoded_labels.append(4)\n",
        "\n",
        "print(encoded_labels)\n",
        "encoded_labels = np.array(encoded_labels)\n",
        "# print(encoded_labels)\n",
        "y = encoded_labels\n",
        "# y = to_categorical(encoded_labels, 5)\n",
        "print(y)"
      ],
      "execution_count": 0,
      "outputs": [
        {
          "output_type": "stream",
          "text": [
            "[1, 1, 1, 1, 1, 1, 1, 1, 1, 1, 1, 1, 1, 1, 1, 1, 1, 1, 1, 1, 1, 1, 1, 1, 1, 1, 1, 2, 2, 2, 2, 2, 2, 2, 2, 2, 2, 2, 2, 2, 2, 2, 2, 2, 2, 2, 2, 2, 2, 2, 2, 3, 3, 3, 3, 3, 3, 3, 3, 3, 3, 3, 3, 3, 3, 3, 3, 3, 3, 3, 3, 3, 3, 3, 4, 4, 4, 4, 4, 4, 4, 4, 4, 4, 4, 4, 4, 4, 4, 4, 4, 4, 4, 4, 4, 4, 4, 4, 4, 4, 4, 4, 4, 4, 4, 4, 4, 0, 0, 0, 0, 0, 0, 0, 0, 0, 0, 0, 0, 0, 0, 0, 0, 0, 0, 0, 0, 0, 0, 0, 0, 0, 0, 0, 0, 0, 0, 0, 0]\n",
            "[1 1 1 1 1 1 1 1 1 1 1 1 1 1 1 1 1 1 1 1 1 1 1 1 1 1 1 2 2 2 2 2 2 2 2 2 2\n",
            " 2 2 2 2 2 2 2 2 2 2 2 2 2 2 3 3 3 3 3 3 3 3 3 3 3 3 3 3 3 3 3 3 3 3 3 3 3\n",
            " 4 4 4 4 4 4 4 4 4 4 4 4 4 4 4 4 4 4 4 4 4 4 4 4 4 4 4 4 4 4 4 4 4 0 0 0 0\n",
            " 0 0 0 0 0 0 0 0 0 0 0 0 0 0 0 0 0 0 0 0 0 0 0 0 0 0 0 0]\n"
          ],
          "name": "stdout"
        }
      ]
    },
    {
      "cell_type": "code",
      "metadata": {
        "id": "483o38BFjqlE",
        "colab_type": "code",
        "outputId": "6d7a13a8-3488-4e19-d9f6-ea1091dd878f",
        "colab": {
          "base_uri": "https://localhost:8080/",
          "height": 85
        }
      },
      "source": [
        "from sklearn.model_selection import train_test_split \n",
        "  \n",
        "# split into 70:30 ration \n",
        "X_train, X_test, y_train, y_test = train_test_split(X, y, test_size = 0.3, random_state = 0) \n",
        "  \n",
        "# describes info about train and test set \n",
        "print(\"Number transactions X_train dataset: \", X_train.shape) \n",
        "print(\"Number transactions y_train dataset: \", y_train.shape) \n",
        "print(\"Number transactions X_test dataset: \", X_test.shape) \n",
        "print(\"Number transactions y_test dataset: \", y_test.shape) "
      ],
      "execution_count": 0,
      "outputs": [
        {
          "output_type": "stream",
          "text": [
            "Number transactions X_train dataset:  (97, 45)\n",
            "Number transactions y_train dataset:  (97,)\n",
            "Number transactions X_test dataset:  (42, 45)\n",
            "Number transactions y_test dataset:  (42,)\n"
          ],
          "name": "stdout"
        }
      ]
    },
    {
      "cell_type": "markdown",
      "metadata": {
        "id": "g-u5qblIlfRW",
        "colab_type": "text"
      },
      "source": [
        "**SMOTE**"
      ]
    },
    {
      "cell_type": "code",
      "metadata": {
        "id": "CAYjXqXWjwNc",
        "colab_type": "code",
        "colab": {}
      },
      "source": [
        "sm = SMOTE(random_state = 2) \n",
        "X_train_res, y_train_res = sm.fit_sample(X_train, y_train.ravel()) "
      ],
      "execution_count": 0,
      "outputs": []
    },
    {
      "cell_type": "code",
      "metadata": {
        "id": "A6fVPSyXkPpj",
        "colab_type": "code",
        "outputId": "48b0a47b-342f-45e3-b5ac-aee34d10839c",
        "colab": {
          "base_uri": "https://localhost:8080/",
          "height": 34
        }
      },
      "source": [
        "# Jumlah y_train sebelum proses SMOTE\n",
        "np.bincount(y_train)"
      ],
      "execution_count": 0,
      "outputs": [
        {
          "output_type": "execute_result",
          "data": {
            "text/plain": [
              "array([23, 18, 17, 15, 24])"
            ]
          },
          "metadata": {
            "tags": []
          },
          "execution_count": 23
        }
      ]
    },
    {
      "cell_type": "code",
      "metadata": {
        "id": "d0czrBprj4N4",
        "colab_type": "code",
        "outputId": "f02ebe99-66ba-4706-ea43-525cad0107d8",
        "colab": {
          "base_uri": "https://localhost:8080/",
          "height": 34
        }
      },
      "source": [
        "# Jumlah y_train setelah proses SMOTE\n",
        "np.bincount(y_train_res)\n"
      ],
      "execution_count": 0,
      "outputs": [
        {
          "output_type": "execute_result",
          "data": {
            "text/plain": [
              "array([24, 24, 24, 24, 24])"
            ]
          },
          "metadata": {
            "tags": []
          },
          "execution_count": 24
        }
      ]
    },
    {
      "cell_type": "markdown",
      "metadata": {
        "id": "FTd-EUSSKcXn",
        "colab_type": "text"
      },
      "source": [
        "**Confusion Matrix with Tfidf**"
      ]
    },
    {
      "cell_type": "code",
      "metadata": {
        "id": "7XBpZ0XzIX7S",
        "colab_type": "code",
        "colab": {}
      },
      "source": [
        "from sklearn.model_selection import cross_val_predict\n",
        "from sklearn.model_selection import StratifiedKFold\n",
        "from sklearn.model_selection import train_test_split\n",
        "from sklearn.linear_model import LogisticRegression\n",
        "from sklearn.metrics import log_loss, accuracy_score\n",
        "from sklearn.feature_extraction.text import CountVectorizer\n",
        "from sklearn.feature_extraction.text import TfidfVectorizer\n",
        "from sklearn.svm import SVC\n",
        "from sklearn.decomposition import TruncatedSVD\n",
        "from sklearn.ensemble import RandomForestClassifier\n",
        "from sklearn.preprocessing import LabelEncoder\n",
        "import scikitplot.plotters as skplt"
      ],
      "execution_count": 0,
      "outputs": []
    },
    {
      "cell_type": "code",
      "metadata": {
        "id": "WRtAAnbGIuNP",
        "colab_type": "code",
        "colab": {}
      },
      "source": [
        "from sklearn.feature_extraction.text import TfidfVectorizer\n",
        "import nltk"
      ],
      "execution_count": 0,
      "outputs": []
    },
    {
      "cell_type": "code",
      "metadata": {
        "id": "hQ8pG2wsUvpk",
        "colab_type": "code",
        "outputId": "5149f2c1-ed5b-420a-cd8e-fd761e67dbdb",
        "colab": {
          "base_uri": "https://localhost:8080/",
          "height": 816
        }
      },
      "source": [
        "nltk.download(\"popular\")"
      ],
      "execution_count": 0,
      "outputs": [
        {
          "output_type": "stream",
          "text": [
            "[nltk_data] Downloading collection 'popular'\n",
            "[nltk_data]    | \n",
            "[nltk_data]    | Downloading package cmudict to /root/nltk_data...\n",
            "[nltk_data]    |   Unzipping corpora/cmudict.zip.\n",
            "[nltk_data]    | Downloading package gazetteers to /root/nltk_data...\n",
            "[nltk_data]    |   Unzipping corpora/gazetteers.zip.\n",
            "[nltk_data]    | Downloading package genesis to /root/nltk_data...\n",
            "[nltk_data]    |   Unzipping corpora/genesis.zip.\n",
            "[nltk_data]    | Downloading package gutenberg to /root/nltk_data...\n",
            "[nltk_data]    |   Unzipping corpora/gutenberg.zip.\n",
            "[nltk_data]    | Downloading package inaugural to /root/nltk_data...\n",
            "[nltk_data]    |   Unzipping corpora/inaugural.zip.\n",
            "[nltk_data]    | Downloading package movie_reviews to\n",
            "[nltk_data]    |     /root/nltk_data...\n",
            "[nltk_data]    |   Unzipping corpora/movie_reviews.zip.\n",
            "[nltk_data]    | Downloading package names to /root/nltk_data...\n",
            "[nltk_data]    |   Unzipping corpora/names.zip.\n",
            "[nltk_data]    | Downloading package shakespeare to /root/nltk_data...\n",
            "[nltk_data]    |   Unzipping corpora/shakespeare.zip.\n",
            "[nltk_data]    | Downloading package stopwords to /root/nltk_data...\n",
            "[nltk_data]    |   Unzipping corpora/stopwords.zip.\n",
            "[nltk_data]    | Downloading package treebank to /root/nltk_data...\n",
            "[nltk_data]    |   Unzipping corpora/treebank.zip.\n",
            "[nltk_data]    | Downloading package twitter_samples to\n",
            "[nltk_data]    |     /root/nltk_data...\n",
            "[nltk_data]    |   Unzipping corpora/twitter_samples.zip.\n",
            "[nltk_data]    | Downloading package omw to /root/nltk_data...\n",
            "[nltk_data]    |   Unzipping corpora/omw.zip.\n",
            "[nltk_data]    | Downloading package wordnet to /root/nltk_data...\n",
            "[nltk_data]    |   Unzipping corpora/wordnet.zip.\n",
            "[nltk_data]    | Downloading package wordnet_ic to /root/nltk_data...\n",
            "[nltk_data]    |   Unzipping corpora/wordnet_ic.zip.\n",
            "[nltk_data]    | Downloading package words to /root/nltk_data...\n",
            "[nltk_data]    |   Unzipping corpora/words.zip.\n",
            "[nltk_data]    | Downloading package maxent_ne_chunker to\n",
            "[nltk_data]    |     /root/nltk_data...\n",
            "[nltk_data]    |   Unzipping chunkers/maxent_ne_chunker.zip.\n",
            "[nltk_data]    | Downloading package punkt to /root/nltk_data...\n",
            "[nltk_data]    |   Unzipping tokenizers/punkt.zip.\n",
            "[nltk_data]    | Downloading package snowball_data to\n",
            "[nltk_data]    |     /root/nltk_data...\n",
            "[nltk_data]    | Downloading package averaged_perceptron_tagger to\n",
            "[nltk_data]    |     /root/nltk_data...\n",
            "[nltk_data]    |   Unzipping taggers/averaged_perceptron_tagger.zip.\n",
            "[nltk_data]    | \n",
            "[nltk_data]  Done downloading collection popular\n"
          ],
          "name": "stdout"
        },
        {
          "output_type": "execute_result",
          "data": {
            "text/plain": [
              "True"
            ]
          },
          "metadata": {
            "tags": []
          },
          "execution_count": 27
        }
      ]
    },
    {
      "cell_type": "code",
      "metadata": {
        "id": "KLyTsep0IwDt",
        "colab_type": "code",
        "outputId": "60ed7faf-2117-4cc4-c0ec-60564e350dc8",
        "colab": {
          "base_uri": "https://localhost:8080/",
          "height": 884
        }
      },
      "source": [
        "count_vectorizer = TfidfVectorizer(\n",
        "    analyzer=\"word\", tokenizer=nltk.word_tokenize,\n",
        "    preprocessor=None, max_features=None)    \n",
        "\n",
        "tfidf = count_vectorizer.fit_transform(data['tweets'])\n",
        "\n",
        "len(count_vectorizer.get_feature_names())\n",
        "print(tfidf)"
      ],
      "execution_count": 0,
      "outputs": [
        {
          "output_type": "stream",
          "text": [
            "  (0, 664)\t0.17638068703499776\n",
            "  (0, 767)\t0.1109865210559628\n",
            "  (0, 304)\t0.17638068703499776\n",
            "  (0, 579)\t0.17638068703499776\n",
            "  (0, 967)\t0.09579713000599199\n",
            "  (0, 65)\t0.17638068703499776\n",
            "  (0, 406)\t0.17638068703499776\n",
            "  (0, 333)\t0.1455878633096477\n",
            "  (0, 29)\t0.09900011947631338\n",
            "  (0, 899)\t0.1109865210559628\n",
            "  (0, 371)\t0.07406660757144369\n",
            "  (0, 391)\t0.16275464546714583\n",
            "  (0, 453)\t0.2789215471009573\n",
            "  (0, 943)\t0.09900011947631338\n",
            "  (0, 223)\t0.13428039297262995\n",
            "  (0, 515)\t0.17638068703499776\n",
            "  (0, 425)\t0.17638068703499776\n",
            "  (0, 673)\t0.15308681511833058\n",
            "  (0, 793)\t0.16275464546714583\n",
            "  (0, 61)\t0.17638068703499776\n",
            "  (0, 386)\t0.12979294320166343\n",
            "  (0, 177)\t0.13946077355047864\n",
            "  (0, 237)\t0.08651337187755996\n",
            "  (0, 42)\t0.38944191795244343\n",
            "  (0, 23)\t0.15308681511833058\n",
            "  :\t:\n",
            "  (136, 965)\t0.17405667640334002\n",
            "  (137, 81)\t0.3278856310852257\n",
            "  (137, 409)\t0.3278856310852257\n",
            "  (137, 744)\t0.3278856310852257\n",
            "  (137, 689)\t0.3278856310852257\n",
            "  (137, 728)\t0.3278856310852257\n",
            "  (137, 55)\t0.2845831243187148\n",
            "  (137, 926)\t0.30255528843959273\n",
            "  (137, 680)\t0.30255528843959273\n",
            "  (137, 928)\t0.30255528843959273\n",
            "  (137, 209)\t0.24128061755220395\n",
            "  (137, 966)\t0.15088824374412108\n",
            "  (137, 237)\t0.16082538293864362\n",
            "  (138, 536)\t0.27558277657951635\n",
            "  (138, 789)\t0.27558277657951635\n",
            "  (138, 908)\t0.27558277657951635\n",
            "  (138, 823)\t0.27558277657951635\n",
            "  (138, 5)\t0.27558277657951635\n",
            "  (138, 200)\t0.27558277657951635\n",
            "  (138, 890)\t0.5511655531590327\n",
            "  (138, 430)\t0.20980394258382307\n",
            "  (138, 356)\t0.21789793341343627\n",
            "  (138, 258)\t0.23918769269593324\n",
            "  (138, 24)\t0.23918769269593324\n",
            "  (138, 569)\t0.1860715565132754\n"
          ],
          "name": "stdout"
        }
      ]
    },
    {
      "cell_type": "code",
      "metadata": {
        "id": "Pyc-MHBWIQgp",
        "colab_type": "code",
        "colab": {}
      },
      "source": [
        "def evaluate_features(X, y, clf=None):\n",
        "    \"\"\"General helper function for evaluating effectiveness of passed features in ML model\n",
        "    \n",
        "    Prints out Log loss, accuracy, and confusion matrix with 3-fold stratified cross-validation\n",
        "    \n",
        "    Args:\n",
        "        X (array-like): Features array. Shape (n_samples, n_features)\n",
        "        \n",
        "        y (array-like): Labels array. Shape (n_samples,)\n",
        "        \n",
        "        clf: Classifier to use. If None, default Log reg is use.\n",
        "    \"\"\"\n",
        "    if clf is None:\n",
        "        clf = LogisticRegression()\n",
        "    \n",
        "    probas = cross_val_predict(clf, X, y, cv=StratifiedKFold(random_state=8), \n",
        "                              n_jobs=-1, method='predict_proba', verbose=2)\n",
        "    pred_indices = np.argmax(probas, axis=1)\n",
        "    classes = np.unique(y)\n",
        "    preds = classes[pred_indices]\n",
        "    print('Log loss: {}'.format(log_loss(y, probas)))\n",
        "    print('Accuracy: {}'.format(accuracy_score(y, preds)))\n",
        "    skplt.plot_confusion_matrix(y, preds, figsize = (12,6), x_tick_rotation  = 20)"
      ],
      "execution_count": 0,
      "outputs": []
    },
    {
      "cell_type": "code",
      "metadata": {
        "id": "-4iBTIOJInCX",
        "colab_type": "code",
        "colab": {}
      },
      "source": [
        "from sklearn.decomposition import TruncatedSVD\n",
        "svd = TruncatedSVD(n_components=25, n_iter=25, random_state=12)\n",
        "truncated_tfidf = svd.fit_transform(tfidf)"
      ],
      "execution_count": 0,
      "outputs": []
    },
    {
      "cell_type": "markdown",
      "metadata": {
        "id": "CrgB39TKla4M",
        "colab_type": "text"
      },
      "source": [
        "**SVM**"
      ]
    },
    {
      "cell_type": "code",
      "metadata": {
        "id": "Y8vVrk4PkJwW",
        "colab_type": "code",
        "outputId": "29647fa8-92f3-46cb-d455-6e5a5fe20a4c",
        "colab": {
          "base_uri": "https://localhost:8080/",
          "height": 51
        }
      },
      "source": [
        "%%time\n",
        "# training a linear SVM classifier \n",
        "from sklearn.svm import SVC \n",
        "svm_model_linear = SVC(kernel = 'linear', C = 1, probability=True).fit(X_train_res, y_train_res) \n",
        "svm_predictions = svm_model_linear.predict(X_test) "
      ],
      "execution_count": 0,
      "outputs": [
        {
          "output_type": "stream",
          "text": [
            "CPU times: user 563 ms, sys: 102 ms, total: 665 ms\n",
            "Wall time: 603 ms\n"
          ],
          "name": "stdout"
        }
      ]
    },
    {
      "cell_type": "code",
      "metadata": {
        "id": "sMr2cPGPkuEa",
        "colab_type": "code",
        "outputId": "4d9ae41d-dddb-441e-8613-de7a22186bc9",
        "colab": {
          "base_uri": "https://localhost:8080/",
          "height": 68
        }
      },
      "source": [
        "%%time\n",
        "# model accuracy for X_test   \n",
        "accuracy = svm_model_linear.score(X_test, y_test) \n",
        "print(accuracy)"
      ],
      "execution_count": 0,
      "outputs": [
        {
          "output_type": "stream",
          "text": [
            "0.2857142857142857\n",
            "CPU times: user 1 ms, sys: 1.78 ms, total: 2.79 ms\n",
            "Wall time: 8.67 ms\n"
          ],
          "name": "stdout"
        }
      ]
    },
    {
      "cell_type": "code",
      "metadata": {
        "id": "YJRkSZ58kxQd",
        "colab_type": "code",
        "colab": {}
      },
      "source": [
        "# creating a confusion matrix \n",
        "# cm = confusion_matrix(y_test, svm_predictions) \n",
        "# cm"
      ],
      "execution_count": 0,
      "outputs": []
    },
    {
      "cell_type": "code",
      "metadata": {
        "id": "LzdK6KiTKAc0",
        "colab_type": "code",
        "outputId": "8c091422-2809-464f-edc2-d72a792e0d07",
        "colab": {
          "base_uri": "https://localhost:8080/",
          "height": 477
        }
      },
      "source": [
        "skplt.plot_confusion_matrix(y_test, svm_predictions, figsize = (12,6), x_tick_rotation  = 20)"
      ],
      "execution_count": 0,
      "outputs": [
        {
          "output_type": "stream",
          "text": [
            "/usr/local/lib/python3.6/dist-packages/sklearn/utils/deprecation.py:85: DeprecationWarning: Function plot_confusion_matrix is deprecated; This will be removed in v0.4.0. Please use scikitplot.metrics.plot_confusion_matrix instead.\n",
            "  warnings.warn(msg, category=DeprecationWarning)\n"
          ],
          "name": "stderr"
        },
        {
          "output_type": "execute_result",
          "data": {
            "text/plain": [
              "<matplotlib.axes._subplots.AxesSubplot at 0x7f123923a2e8>"
            ]
          },
          "metadata": {
            "tags": []
          },
          "execution_count": 34
        },
        {
          "output_type": "display_data",
          "data": {
            "image/png": "[encoded data removed]",
            "text/plain": [
              "<Figure size 864x432 with 2 Axes>"
            ]
          },
          "metadata": {
            "tags": []
          }
        }
      ]
    },
    {
      "cell_type": "markdown",
      "metadata": {
        "id": "LSzbr4mEJ7ba",
        "colab_type": "text"
      },
      "source": [
        "*Confusin Matrix SVC with tf-idf evaulate features*"
      ]
    },
    {
      "cell_type": "code",
      "metadata": {
        "id": "PmhGL6d2JG0r",
        "colab_type": "code",
        "outputId": "b1cb4172-1066-48f6-bf42-c0d9b09bb316",
        "colab": {
          "base_uri": "https://localhost:8080/",
          "height": 576
        }
      },
      "source": [
        "evaluate_features(truncated_tfidf,data['category'].values.ravel(),svm_model_linear)"
      ],
      "execution_count": 0,
      "outputs": [
        {
          "output_type": "stream",
          "text": [
            "/usr/local/lib/python3.6/dist-packages/sklearn/model_selection/_split.py:629: FutureWarning: The default value of n_split will change from 3 to 5 in version 0.22. Specify it explicitly to silence this warning.\n",
            "  warnings.warn(NSPLIT_WARNING, FutureWarning)\n",
            "[Parallel(n_jobs=-1)]: Using backend LokyBackend with 2 concurrent workers.\n",
            "[Parallel(n_jobs=-1)]: Done   3 out of   3 | elapsed:    1.4s finished\n",
            "/usr/local/lib/python3.6/dist-packages/sklearn/utils/deprecation.py:85: DeprecationWarning: Function plot_confusion_matrix is deprecated; This will be removed in v0.4.0. Please use scikitplot.metrics.plot_confusion_matrix instead.\n",
            "  warnings.warn(msg, category=DeprecationWarning)\n"
          ],
          "name": "stderr"
        },
        {
          "output_type": "stream",
          "text": [
            "Log loss: 1.3077525838156732\n",
            "Accuracy: 0.5323741007194245\n"
          ],
          "name": "stdout"
        },
        {
          "output_type": "display_data",
          "data": {
            "image/png": "[encoded data removed]",
            "text/plain": [
              "<Figure size 864x432 with 2 Axes>"
            ]
          },
          "metadata": {
            "tags": []
          }
        }
      ]
    },
    {
      "cell_type": "markdown",
      "metadata": {
        "id": "HaxCSMmUmIJ_",
        "colab_type": "text"
      },
      "source": [
        "**KNN**"
      ]
    },
    {
      "cell_type": "code",
      "metadata": {
        "id": "Fj5kaGlvlLbH",
        "colab_type": "code",
        "outputId": "480b9084-c513-4704-f893-dbfe65989346",
        "colab": {
          "base_uri": "https://localhost:8080/",
          "height": 51
        }
      },
      "source": [
        "%%time\n",
        "# training a KNN classifier \n",
        "from sklearn.neighbors import KNeighborsClassifier \n",
        "knn = KNeighborsClassifier(n_neighbors = 7).fit(X_train_res, y_train_res) "
      ],
      "execution_count": 0,
      "outputs": [
        {
          "output_type": "stream",
          "text": [
            "CPU times: user 584 µs, sys: 1.91 ms, total: 2.49 ms\n",
            "Wall time: 2.01 ms\n"
          ],
          "name": "stdout"
        }
      ]
    },
    {
      "cell_type": "code",
      "metadata": {
        "id": "xnm63a--mR_J",
        "colab_type": "code",
        "outputId": "3ed74a76-bd26-42ff-8d92-dbe83e8d5963",
        "colab": {
          "base_uri": "https://localhost:8080/",
          "height": 51
        }
      },
      "source": [
        "%%time\n",
        "# accuracy on X_test \n",
        "accuracy = knn.score(X_test, y_test) \n"
      ],
      "execution_count": 0,
      "outputs": [
        {
          "output_type": "stream",
          "text": [
            "CPU times: user 5.52 ms, sys: 1.88 ms, total: 7.4 ms\n",
            "Wall time: 9.41 ms\n"
          ],
          "name": "stdout"
        }
      ]
    },
    {
      "cell_type": "code",
      "metadata": {
        "id": "L-wR-mD1mUzy",
        "colab_type": "code",
        "outputId": "029018f8-a5cb-4fe3-8b95-3786a7a44279",
        "colab": {
          "base_uri": "https://localhost:8080/",
          "height": 34
        }
      },
      "source": [
        "accuracy "
      ],
      "execution_count": 0,
      "outputs": [
        {
          "output_type": "execute_result",
          "data": {
            "text/plain": [
              "0.19047619047619047"
            ]
          },
          "metadata": {
            "tags": []
          },
          "execution_count": 38
        }
      ]
    },
    {
      "cell_type": "code",
      "metadata": {
        "id": "Q0vkFi9hXYMU",
        "colab_type": "code",
        "colab": {}
      },
      "source": [
        "knn_predictions = knn.predict(X_test)"
      ],
      "execution_count": 0,
      "outputs": []
    },
    {
      "cell_type": "code",
      "metadata": {
        "id": "GZg0uhVQLO7w",
        "colab_type": "code",
        "outputId": "281f4fd3-9b7e-4726-aa47-17f75177339e",
        "colab": {
          "base_uri": "https://localhost:8080/",
          "height": 477
        }
      },
      "source": [
        "skplt.plot_confusion_matrix(y_test, knn_predictions, figsize = (12,6), x_tick_rotation  = 20)"
      ],
      "execution_count": 0,
      "outputs": [
        {
          "output_type": "stream",
          "text": [
            "/usr/local/lib/python3.6/dist-packages/sklearn/utils/deprecation.py:85: DeprecationWarning: Function plot_confusion_matrix is deprecated; This will be removed in v0.4.0. Please use scikitplot.metrics.plot_confusion_matrix instead.\n",
            "  warnings.warn(msg, category=DeprecationWarning)\n"
          ],
          "name": "stderr"
        },
        {
          "output_type": "execute_result",
          "data": {
            "text/plain": [
              "<matplotlib.axes._subplots.AxesSubplot at 0x7f12497fce10>"
            ]
          },
          "metadata": {
            "tags": []
          },
          "execution_count": 40
        },
        {
          "output_type": "display_data",
          "data": {
            "image/png": "[encoded data removed]",
            "text/plain": [
              "<Figure size 864x432 with 2 Axes>"
            ]
          },
          "metadata": {
            "tags": []
          }
        }
      ]
    },
    {
      "cell_type": "markdown",
      "metadata": {
        "id": "ctkqwfDfVnJ4",
        "colab_type": "text"
      },
      "source": [
        "*Confusion Matrix K-NN with tf-idf evaulate features*"
      ]
    },
    {
      "cell_type": "code",
      "metadata": {
        "id": "Rix1LEl3Vmyg",
        "colab_type": "code",
        "outputId": "b74c1dc5-a65d-4619-dc37-f198d75f841a",
        "colab": {
          "base_uri": "https://localhost:8080/",
          "height": 576
        }
      },
      "source": [
        "evaluate_features(truncated_tfidf,data['category'].values.ravel(),knn)"
      ],
      "execution_count": 0,
      "outputs": [
        {
          "output_type": "stream",
          "text": [
            "/usr/local/lib/python3.6/dist-packages/sklearn/model_selection/_split.py:629: FutureWarning: The default value of n_split will change from 3 to 5 in version 0.22. Specify it explicitly to silence this warning.\n",
            "  warnings.warn(NSPLIT_WARNING, FutureWarning)\n",
            "[Parallel(n_jobs=-1)]: Using backend LokyBackend with 2 concurrent workers.\n",
            "[Parallel(n_jobs=-1)]: Done   3 out of   3 | elapsed:    0.0s finished\n",
            "/usr/local/lib/python3.6/dist-packages/sklearn/utils/deprecation.py:85: DeprecationWarning: Function plot_confusion_matrix is deprecated; This will be removed in v0.4.0. Please use scikitplot.metrics.plot_confusion_matrix instead.\n",
            "  warnings.warn(msg, category=DeprecationWarning)\n"
          ],
          "name": "stderr"
        },
        {
          "output_type": "stream",
          "text": [
            "Log loss: 7.103337321002984\n",
            "Accuracy: 0.39568345323741005\n"
          ],
          "name": "stdout"
        },
        {
          "output_type": "display_data",
          "data": {
            "image/png": "[encoded data removed]",
            "text/plain": [
              "<Figure size 864x432 with 2 Axes>"
            ]
          },
          "metadata": {
            "tags": []
          }
        }
      ]
    },
    {
      "cell_type": "markdown",
      "metadata": {
        "id": "WT-t-WJ_mwxV",
        "colab_type": "text"
      },
      "source": [
        "**Random Forest**"
      ]
    },
    {
      "cell_type": "code",
      "metadata": {
        "id": "rerbnEdcmWwH",
        "colab_type": "code",
        "outputId": "0ae120de-8a17-4c47-9ec0-05004193c7ac",
        "colab": {
          "base_uri": "https://localhost:8080/",
          "height": 71
        }
      },
      "source": [
        "from sklearn.ensemble import RandomForestClassifier\n",
        "from sklearn.externals import joblib\n",
        "from sklearn.model_selection import cross_val_score"
      ],
      "execution_count": 0,
      "outputs": [
        {
          "output_type": "stream",
          "text": [
            "/usr/local/lib/python3.6/dist-packages/sklearn/externals/joblib/__init__.py:15: DeprecationWarning: sklearn.externals.joblib is deprecated in 0.21 and will be removed in 0.23. Please import this functionality directly from joblib, which can be installed with: pip install joblib. If this warning is raised when loading pickled models, you may need to re-serialize those models with scikit-learn 0.21+.\n",
            "  warnings.warn(msg, category=DeprecationWarning)\n"
          ],
          "name": "stderr"
        }
      ]
    },
    {
      "cell_type": "code",
      "metadata": {
        "id": "gjnkZxwbdLAp",
        "colab_type": "code",
        "outputId": "47dd19fa-05de-46a5-90fb-a3b2313e84a5",
        "colab": {
          "base_uri": "https://localhost:8080/",
          "height": 51
        }
      },
      "source": [
        "%%time\n",
        "#Create a Gaussian Classifier\n",
        "clf=RandomForestClassifier(n_estimators=100)\n",
        "\n",
        "#Train the model using the training sets y_pred=clf.predict(X_test)\n",
        "clf.fit(X_train_res,y_train_res)"
      ],
      "execution_count": 0,
      "outputs": [
        {
          "output_type": "stream",
          "text": [
            "CPU times: user 155 ms, sys: 1.31 ms, total: 156 ms\n",
            "Wall time: 160 ms\n"
          ],
          "name": "stdout"
        }
      ]
    },
    {
      "cell_type": "code",
      "metadata": {
        "id": "zZet6rgnm0GP",
        "colab_type": "code",
        "outputId": "efd46922-1dfc-476c-c75b-928c6e23cd52",
        "colab": {
          "base_uri": "https://localhost:8080/",
          "height": 68
        }
      },
      "source": [
        "%%time\n",
        "# prediction on test set\n",
        "rf_predictions=clf.predict(X_test)\n",
        "\n",
        "#Import scikit-learn metrics module for accuracy calculation\n",
        "from sklearn import metrics\n",
        "# Model Accuracy, how often is the classifier correct?\n",
        "print(\"Accuracy:\",metrics.accuracy_score(y_test, rf_predictions))"
      ],
      "execution_count": 0,
      "outputs": [
        {
          "output_type": "stream",
          "text": [
            "Accuracy: 0.42857142857142855\n",
            "CPU times: user 19.5 ms, sys: 784 µs, total: 20.3 ms\n",
            "Wall time: 20.1 ms\n"
          ],
          "name": "stdout"
        }
      ]
    },
    {
      "cell_type": "code",
      "metadata": {
        "id": "OqiHivKBn1c_",
        "colab_type": "code",
        "outputId": "63a28cc3-4bf0-4400-c702-c63c23965628",
        "colab": {
          "base_uri": "https://localhost:8080/",
          "height": 102
        }
      },
      "source": [
        "# creating a confusion matrix   \n",
        "cm = confusion_matrix(y_test, rf_predictions) \n",
        "cm"
      ],
      "execution_count": 0,
      "outputs": [
        {
          "output_type": "execute_result",
          "data": {
            "text/plain": [
              "array([[8, 0, 0, 0, 1],\n",
              "       [0, 2, 6, 1, 0],\n",
              "       [0, 0, 3, 2, 2],\n",
              "       [0, 3, 1, 1, 3],\n",
              "       [1, 1, 2, 1, 4]])"
            ]
          },
          "metadata": {
            "tags": []
          },
          "execution_count": 45
        }
      ]
    },
    {
      "cell_type": "code",
      "metadata": {
        "id": "DUjVw9n2LDDL",
        "colab_type": "code",
        "outputId": "3e7ee653-a286-420a-bc87-ad1cdd078360",
        "colab": {
          "base_uri": "https://localhost:8080/",
          "height": 477
        }
      },
      "source": [
        "skplt.plot_confusion_matrix(y_test, rf_predictions, figsize = (12,6), x_tick_rotation  = 20)"
      ],
      "execution_count": 0,
      "outputs": [
        {
          "output_type": "stream",
          "text": [
            "/usr/local/lib/python3.6/dist-packages/sklearn/utils/deprecation.py:85: DeprecationWarning: Function plot_confusion_matrix is deprecated; This will be removed in v0.4.0. Please use scikitplot.metrics.plot_confusion_matrix instead.\n",
            "  warnings.warn(msg, category=DeprecationWarning)\n"
          ],
          "name": "stderr"
        },
        {
          "output_type": "execute_result",
          "data": {
            "text/plain": [
              "<matplotlib.axes._subplots.AxesSubplot at 0x7f123476fe10>"
            ]
          },
          "metadata": {
            "tags": []
          },
          "execution_count": 46
        },
        {
          "output_type": "display_data",
          "data": {
            "image/png": "[encoded data removed]",
            "text/plain": [
              "<Figure size 864x432 with 2 Axes>"
            ]
          },
          "metadata": {
            "tags": []
          }
        }
      ]
    },
    {
      "cell_type": "markdown",
      "metadata": {
        "id": "iTVUQJ3wK89H",
        "colab_type": "text"
      },
      "source": [
        "*Confusion Matrix Random Forest with tf-idf evaulate features*"
      ]
    },
    {
      "cell_type": "code",
      "metadata": {
        "id": "G7iuo0v_H94A",
        "colab_type": "code",
        "outputId": "09652b76-1829-4bce-c3b4-fa09e4d85670",
        "colab": {
          "base_uri": "https://localhost:8080/",
          "height": 576
        }
      },
      "source": [
        "evaluate_features(truncated_tfidf,data['category'].values.ravel(),clf)"
      ],
      "execution_count": 0,
      "outputs": [
        {
          "output_type": "stream",
          "text": [
            "/usr/local/lib/python3.6/dist-packages/sklearn/model_selection/_split.py:629: FutureWarning: The default value of n_split will change from 3 to 5 in version 0.22. Specify it explicitly to silence this warning.\n",
            "  warnings.warn(NSPLIT_WARNING, FutureWarning)\n",
            "[Parallel(n_jobs=-1)]: Using backend LokyBackend with 2 concurrent workers.\n",
            "[Parallel(n_jobs=-1)]: Done   3 out of   3 | elapsed:    0.5s finished\n",
            "/usr/local/lib/python3.6/dist-packages/sklearn/utils/deprecation.py:85: DeprecationWarning: Function plot_confusion_matrix is deprecated; This will be removed in v0.4.0. Please use scikitplot.metrics.plot_confusion_matrix instead.\n",
            "  warnings.warn(msg, category=DeprecationWarning)\n"
          ],
          "name": "stderr"
        },
        {
          "output_type": "stream",
          "text": [
            "Log loss: 1.2993843385586072\n",
            "Accuracy: 0.4748201438848921\n"
          ],
          "name": "stdout"
        },
        {
          "output_type": "display_data",
          "data": {
            "image/png": "[encoded data removed]",
            "text/plain": [
              "<Figure size 864x432 with 2 Axes>"
            ]
          },
          "metadata": {
            "tags": []
          }
        }
      ]
    },
    {
      "cell_type": "code",
      "metadata": {
        "id": "178MxO1PI4G_",
        "colab_type": "code",
        "colab": {}
      },
      "source": [
        ""
      ],
      "execution_count": 0,
      "outputs": []
    }
  ]
}